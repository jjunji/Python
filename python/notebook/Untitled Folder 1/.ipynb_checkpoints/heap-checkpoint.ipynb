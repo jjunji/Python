{
 "cells": [
  {
   "cell_type": "code",
   "execution_count": null,
   "metadata": {
    "collapsed": true
   },
   "outputs": [],
   "source": [
    "class Heap:\n",
    "    def get_parent_idx(self, dix):\n",
    "        pass\n",
    "    \n",
    "    def get_left_child_idx(self, idx):\n",
    "        pass\n",
    "    \n",
    "    def get_right_child_idx(self, idx):\n",
    "        pass\n",
    "    \n",
    "    def __init__(self, s_min_max = \"min\"):\n",
    "        self.dynamic_arr = [None, ]\n",
    "        self.num_of_data = 0\n",
    "        \n",
    "    def is_empty(self):\n",
    "        pass\n",
    "    \n",
    "    def size(self):\n",
    "        pass\n",
    "    \n",
    "    def insert(self, data):\n",
    "        pass\n",
    "    \n",
    "    # 단말 노드면 None, 우선 순위가 높은 \n",
    "    # 자식 노드의 인덱스 \n",
    "    def which_is_prior_child(self, idx):\n",
    "        pass\n",
    "    \n",
    "    def delete(self):\n",
    "        pass\n",
    "    \n",
    "if __name__==\"__main__\":\n",
    "    heap = Heep(\"min\")\n",
    "    heap.insert(3)\n",
    "    heap.insert(5)\n",
    "    heap.insert(1)\n",
    "    heap.insert(10)\n",
    "    # ...\n",
    "    \n",
    "    for i "
   ]
  }
 ],
 "metadata": {
  "kernelspec": {
   "display_name": "Python 3",
   "language": "python",
   "name": "python3"
  },
  "language_info": {
   "codemirror_mode": {
    "name": "ipython",
    "version": 3
   },
   "file_extension": ".py",
   "mimetype": "text/x-python",
   "name": "python",
   "nbconvert_exporter": "python",
   "pygments_lexer": "ipython3",
   "version": "3.6.0"
  }
 },
 "nbformat": 4,
 "nbformat_minor": 2
}
