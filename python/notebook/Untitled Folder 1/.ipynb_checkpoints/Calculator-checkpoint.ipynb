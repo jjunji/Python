{
 "cells": [
  {
   "cell_type": "code",
   "execution_count": 1,
   "metadata": {
    "collapsed": false,
    "deletable": true,
    "editable": true
   },
   "outputs": [
    {
     "ename": "AttributeError",
     "evalue": "'Calculator' object has no attribute 'calculate'",
     "output_type": "error",
     "traceback": [
      "\u001b[0;31m---------------------------------------------------------------------------\u001b[0m",
      "\u001b[0;31mAttributeError\u001b[0m                            Traceback (most recent call last)",
      "\u001b[0;32m<ipython-input-1-b4fd1b672de9>\u001b[0m in \u001b[0;36m<module>\u001b[0;34m()\u001b[0m\n\u001b[1;32m     27\u001b[0m     \u001b[0mcalc\u001b[0m \u001b[0;34m=\u001b[0m \u001b[0mCalculator\u001b[0m\u001b[0;34m(\u001b[0m\u001b[0;34m\"3 + 2\"\u001b[0m\u001b[0;34m)\u001b[0m\u001b[0;34m\u001b[0m\u001b[0m\n\u001b[1;32m     28\u001b[0m     \u001b[0mcalc\u001b[0m\u001b[0;34m.\u001b[0m\u001b[0mpostfix_exp\u001b[0m \u001b[0;34m=\u001b[0m \u001b[0;34m'25+37-*'\u001b[0m  \u001b[0;31m# 테스트를 위해 아무 숫자나 넣은 것.\u001b[0m\u001b[0;34m\u001b[0m\u001b[0m\n\u001b[0;32m---> 29\u001b[0;31m     \u001b[0mprint\u001b[0m\u001b[0;34m(\u001b[0m\u001b[0mcalc\u001b[0m\u001b[0;34m.\u001b[0m\u001b[0mcalculate\u001b[0m\u001b[0;34m(\u001b[0m\u001b[0;34m)\u001b[0m\u001b[0;34m)\u001b[0m\u001b[0;34m\u001b[0m\u001b[0m\n\u001b[0m\u001b[1;32m     30\u001b[0m     \u001b[0;31m# 답은 -28\u001b[0m\u001b[0;34m\u001b[0m\u001b[0;34m\u001b[0m\u001b[0m\n",
      "\u001b[0;31mAttributeError\u001b[0m: 'Calculator' object has no attribute 'calculate'"
     ]
    }
   ],
   "source": [
    "from stack import Stack\n",
    "\n",
    "class Calculator:\n",
    "    def __init__(self, org_exp):\n",
    "        self.org_exp = org_exp.replace(' ','')\n",
    "        self.postfix_exp = None\n",
    "        \n",
    "    # 가중치를 주는 함수\n",
    "    def get_weight(self, oprt):\n",
    "        if self.oprt == '+' or '-':\n",
    "            weight = 7\n",
    "        elif self.oprt == '*' or '/':\n",
    "            weight = 9\n",
    "        elif self.oprt == '(' or ')':\n",
    "            weight = 4\n",
    "    \n",
    "    def convert_to_postfix(self):\n",
    "        pass\n",
    "    \n",
    "    def calc_two_oprd(self, oprd1, oprd2, oprt):\n",
    "        if oprt == '+':\n",
    "            return oprd1 + oprd2\n",
    "        elif oprt == '-':\n",
    "            return oprd1 - oprd2\n",
    "        elif oprt == '*':\n",
    "            return oprd1 * oprd2\n",
    "        elif oprt == '/':\n",
    "            return oprd1 // oprd2  # 정수형만 계산 할 것이기 때문.\n",
    "        \n",
    "    \n",
    "    def oprd_stack(self, oprt):\n",
    "        pass\n",
    "    \n",
    "    def postfix_exp(self, org_exp):\n",
    "        exp_list = []\n",
    "        oprt_stack = Stack()\n",
    "        \n",
    "        \n",
    "        \n",
    "        \n",
    "        \n",
    "        # 테스트 코드\n",
    "if __name__ == \"__main__\":  \n",
    "    calc = Calculator(\"3 + 2\")\n",
    "    calc.postfix_exp = '25+37-*'  # 테스트를 위해 아무 숫자나 넣은 것.\n",
    "    print(calc.calculate())\n",
    "    # 답은 -28"
   ]
  },
  {
   "cell_type": "code",
   "execution_count": null,
   "metadata": {
    "collapsed": true,
    "deletable": true,
    "editable": true
   },
   "outputs": [],
   "source": [
    "from stack import Stack\n",
    "\n",
    "class Calculator:\n",
    "    def __init__(self, org_exp):\n",
    "        self.org_exp = org_exp.replace(' ','')\n",
    "        self.postfix_exp = None\n",
    "        \n",
    "    # 가중치를 주는 함수\n",
    "    def get_weight(self, oprt):\n",
    "        if oprt == '*' or '/':\n",
    "            return 9\n",
    "        elif oprt == '+' or '-':\n",
    "            return 7\n",
    "        elif self.oprt == '(':\n",
    "            return 5\n",
    "        else:\n",
    "            return None\n",
    "    \n",
    "    def convert_to_postfix(self):\n",
    "        pass\n",
    "    \n",
    "    def calc_two_oprd(self, oprd1, oprd2, oprt):\n",
    "        if oprt == '+':\n",
    "            return oprd1 + oprd2\n",
    "        elif oprt == '-':\n",
    "            return oprd1 - oprd2\n",
    "        elif oprt == '*':\n",
    "            return oprd1 * oprd2\n",
    "        elif oprt == '/':\n",
    "            return oprd1 // oprd2  # 정수형만 계산 할 것이기 때문.\n",
    "    \n",
    "    def postfix_exp(self, org_exp):\n",
    "        exp_list = []\n",
    "        oprt_stack = Stack()\n",
    "        \n",
    "    def calculate(self):\n",
    "        oprd_stack = Stack()\n",
    "        \n",
    "        for ch in self.postfix_exp:\n",
    "            if ch.isdigit():\n",
    "                oprd_stack.push(int(ch))\n",
    "            else:\n",
    "                oprd2 = oprd_stack.pop()\n",
    "                oprd1 = oprd_stack.pop()\n",
    "                oprd_stack.push(self.calc_two_oprd(oprd1, oprd2, ch))\n",
    "                \n",
    "        return oprd_stack.pop()\n",
    "        \n",
    "        \n",
    "        \n",
    "        # 테스트 코드\n",
    "if __name__ == \"__main__\":  \n",
    "    calc = Calculator(\"3 + 2\")\n",
    "    calc.postfix_exp = '25+37-*'  # 테스트를 위해 아무 숫자나 넣은 것.\n",
    "    print(calc.calculate())\n",
    "    # 답은 -28"
   ]
  },
  {
   "cell_type": "code",
   "execution_count": null,
   "metadata": {
    "collapsed": true
   },
   "outputs": [],
   "source": [
    "if __name__ == \"__main__\":\n",
    "    a = input(\"수식을 입력하세요 : \")\n",
    "    calc = Calculator(a)\n",
    "    calc.convert_to_postfix()\n",
    "    print(calc.postfix_exp)\n",
    "    print(calc.calculate())"
   ]
  }
 ],
 "metadata": {
  "kernelspec": {
   "display_name": "Python 3",
   "language": "python",
   "name": "python3"
  },
  "language_info": {
   "codemirror_mode": {
    "name": "ipython",
    "version": 3
   },
   "file_extension": ".py",
   "mimetype": "text/x-python",
   "name": "python",
   "nbconvert_exporter": "python",
   "pygments_lexer": "ipython3",
   "version": "3.6.0"
  }
 },
 "nbformat": 4,
 "nbformat_minor": 2
}
