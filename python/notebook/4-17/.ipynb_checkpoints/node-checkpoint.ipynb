{
 "cells": [
  {
   "cell_type": "code",
   "execution_count": 31,
   "metadata": {
    "collapsed": false
   },
   "outputs": [],
   "source": [
    "class Node:\n",
    "    def __init__(self, data):\n",
    "        self.data = data\n",
    "        self.next = None\n",
    "        \n",
    "class LinkedList:\n",
    "    def __init__(self):\n",
    "        dummy = Node(\"dummy\")\n",
    "        \n",
    "        self.head = dummy\n",
    "        self.tail = dummy\n",
    "        \n",
    "        self.current = None # 더미에 넣어도 상관없으나, 탐색할 때만 쓰기 때문에 처음에 None으로 함.\n",
    "        self.before = None\n",
    "        \n",
    "        self.num_of_data = 0 # 아직 데이터가 없음.\n",
    "  # 2.\n",
    "    def append(self, data):\n",
    "        new_node = Node(data)\n",
    "        self.tail.next = new_node\n",
    "        self.tail = new_node\n",
    "        \n",
    "        self.num_of_data += 1\n",
    "        \n",
    "    def first(self):\n",
    "        if self.num_of_data == 0:\n",
    "            return None\n",
    "        \n",
    "        self.before = self.head\n",
    "        self.current = self.head.next\n",
    "        \n",
    "        return self.current.data\n",
    "    \n",
    "    def next(self):\n",
    "        if self.current.next == None:  # 다음 값이 없을 경우를 정의해줌.\n",
    "            return None                # first / next 나눈 이유 \n",
    "                                       # 순회의 편리를 위하여, first는 처음부터, next는 현재 값 다음 값.\n",
    "        \n",
    "        self.before = self.current\n",
    "        self.current = self.current.next\n",
    "        \n",
    "        return self.current.data\n",
    "    \n",
    "    def delete(self):\n",
    "        ret_data = self.current.data # 안해도 되지만, 사라진 값이 무엇인지 사용자에게 보여주는 것이 맞다.\n",
    "        \n",
    "        if self.current is self.tail:\n",
    "            self.tail = self.before\n",
    "        \n",
    "        self.before.next = self.current.next\n",
    "        self.current.next = self.before\n",
    "        # 이 때 레퍼런스 카운트가 0이 되서 노드가 사라짐. (노드가 사라지는 시점은 다음 라인)\n",
    "        self.num_of_data -= 1\n",
    "        \n",
    "        return ret_data\n",
    "    \n",
    "    def size(self):\n",
    "        return self.num_of_data\n",
    "    "
   ]
  },
  {
   "cell_type": "code",
   "execution_count": 32,
   "metadata": {
    "collapsed": false
   },
   "outputs": [
    {
     "name": "stdout",
     "output_type": "stream",
     "text": [
      "the number of data : 0\n"
     ]
    }
   ],
   "source": [
    "d_list = LinkedList()\n",
    "\n",
    "print(\"the number of data : {}\".format(d_list.size()))"
   ]
  },
  {
   "cell_type": "code",
   "execution_count": 33,
   "metadata": {
    "collapsed": false
   },
   "outputs": [
    {
     "name": "stdout",
     "output_type": "stream",
     "text": [
      "2  3  1  5  2  10  7  2  "
     ]
    }
   ],
   "source": [
    "# insert\n",
    "d_list.append(2)\n",
    "d_list.append(3)\n",
    "d_list.append(1)\n",
    "d_list.append(5)\n",
    "d_list.append(2)\n",
    "d_list.append(10)\n",
    "d_list.append(7)\n",
    "d_list.append(2)\n",
    "\n",
    "data = d_list.first()\n",
    "\n",
    "if data:\n",
    "    print(data, end = '  ')\n",
    "    while True:\n",
    "        data = d_list.next()\n",
    "        if data:\n",
    "            print(data, end = '  ')\n",
    "        else:\n",
    "            break"
   ]
  },
  {
   "cell_type": "code",
   "execution_count": null,
   "metadata": {
    "collapsed": true
   },
   "outputs": [],
   "source": []
  },
  {
   "cell_type": "code",
   "execution_count": 34,
   "metadata": {
    "collapsed": false
   },
   "outputs": [
    {
     "name": "stdout",
     "output_type": "stream",
     "text": [
      "deleted  dummy  3  1  5  deleted  5  10  7  deleted  7  "
     ]
    }
   ],
   "source": [
    "data = d_list.first()\n",
    "\n",
    "if data:\n",
    "    if data == 2:\n",
    "        d_list.delete()\n",
    "        print(\"deleted\", end = '  ')\n",
    "    while True:\n",
    "        data = d_list.next()\n",
    "        if data == 2:\n",
    "            d_list.delete()\n",
    "            print(\"deleted\", end = '  ')\n",
    "        elif data:\n",
    "            print(data, end = '  ')\n",
    "        else:\n",
    "            break"
   ]
  },
  {
   "cell_type": "code",
   "execution_count": null,
   "metadata": {
    "collapsed": true
   },
   "outputs": [],
   "source": []
  }
 ],
 "metadata": {
  "kernelspec": {
   "display_name": "Python 3",
   "language": "python",
   "name": "python3"
  },
  "language_info": {
   "codemirror_mode": {
    "name": "ipython",
    "version": 3
   },
   "file_extension": ".py",
   "mimetype": "text/x-python",
   "name": "python",
   "nbconvert_exporter": "python",
   "pygments_lexer": "ipython3",
   "version": "3.6.0"
  }
 },
 "nbformat": 4,
 "nbformat_minor": 2
}
