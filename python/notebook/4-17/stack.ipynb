{
 "cells": [
  {
   "cell_type": "code",
   "execution_count": 4,
   "metadata": {
    "collapsed": false
   },
   "outputs": [
    {
     "name": "stdout",
     "output_type": "stream",
     "text": [
      "5  4  3  2  1  "
     ]
    }
   ],
   "source": [
    "# 스택 구현해보기.\n",
    "\n",
    "class Stack(list):\n",
    "    push = list.append\n",
    "    \n",
    "    def is_empty(self):\n",
    "        if not len(self): # 리스트를 상속받았기 때문에 가능.\n",
    "            return True\n",
    "        else:\n",
    "            return False\n",
    "    \n",
    "    def peek(self):\n",
    "        return self[-1]  # ㅇㅇ\n",
    "    \n",
    "if __name__ == \"__main__\":\n",
    "    s = Stack()\n",
    "    s.push(1)\n",
    "    s.push(2)\n",
    "    s.push(3)\n",
    "    s.push(4)\n",
    "    s.push(5)\n",
    "    \n",
    "    if s.is_empty():\n",
    "        print(\"There is no data\")\n",
    "    else:\n",
    "        while not s.is_empty():\n",
    "            data = s.pop()\n",
    "            if data:\n",
    "                print(data, end = '  ')\n",
    "        #print(s.peek())"
   ]
  },
  {
   "cell_type": "code",
   "execution_count": 6,
   "metadata": {
    "collapsed": false
   },
   "outputs": [],
   "source": [
    "# 1, 2, 3, 4, 5 순으로 push / 5, 4, 3, 2, 1 순으로 pop됨."
   ]
  },
  {
   "cell_type": "code",
   "execution_count": 7,
   "metadata": {
    "collapsed": true
   },
   "outputs": [],
   "source": [
    "class tree_node:\n",
    "    def __init__(self, data):\n",
    "        pass"
   ]
  },
  {
   "cell_type": "code",
   "execution_count": null,
   "metadata": {
    "collapsed": true
   },
   "outputs": [],
   "source": []
  }
 ],
 "metadata": {
  "kernelspec": {
   "display_name": "Python 3",
   "language": "python",
   "name": "python3"
  },
  "language_info": {
   "codemirror_mode": {
    "name": "ipython",
    "version": 3
   },
   "file_extension": ".py",
   "mimetype": "text/x-python",
   "name": "python",
   "nbconvert_exporter": "python",
   "pygments_lexer": "ipython3",
   "version": "3.6.0"
  }
 },
 "nbformat": 4,
 "nbformat_minor": 2
}
