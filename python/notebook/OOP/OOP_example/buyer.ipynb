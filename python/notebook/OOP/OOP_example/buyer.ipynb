{
 "cells": [
  {
   "cell_type": "code",
   "execution_count": null,
   "metadata": {
    "collapsed": true
   },
   "outputs": [],
   "source": [
    "from person import Person\n",
    "\n",
    "class Buyer(Person):\n",
    "    def __init__(self, name, age, money, product):\n",
    "        pass\n",
    "    \n",
    "    def buy(self, other, how_many):\n",
    "        pass\n",
    "    \n",
    "    def __str__(self):\n",
    "        \n",
    "from retailer import Retailer\n",
    "\n",
    "b1 = Buyer('greg', 18, 10000, 0)\n",
    "r1 = Retailer('kim', 25, 2000, 20)\n",
    "print(b1)\n",
    "print(r1)\n",
    "b1.buy(r1, 3)\n",
    "print(b1)\n",
    "print(r1)"
   ]
  }
 ],
 "metadata": {
  "kernelspec": {
   "display_name": "Python 3",
   "language": "python",
   "name": "python3"
  },
  "language_info": {
   "codemirror_mode": {
    "name": "ipython",
    "version": 3
   },
   "file_extension": ".py",
   "mimetype": "text/x-python",
   "name": "python",
   "nbconvert_exporter": "python",
   "pygments_lexer": "ipython3",
   "version": "3.6.0"
  }
 },
 "nbformat": 4,
 "nbformat_minor": 2
}
