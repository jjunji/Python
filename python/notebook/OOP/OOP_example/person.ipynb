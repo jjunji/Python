{
 "cells": [
  {
   "cell_type": "code",
   "execution_count": 4,
   "metadata": {
    "collapsed": false,
    "deletable": true,
    "editable": true
   },
   "outputs": [
    {
     "name": "stdout",
     "output_type": "stream",
     "text": [
      "\n",
      "My name is greg\n",
      "I am 18 years old\n",
      "I have 5000 won\n",
      "\n",
      "My name is kim\n",
      "I am 22 years old\n",
      "I have 1000 won\n",
      "\n",
      "My name is greg\n",
      "I am 18 years old\n",
      "I have 3000 won\n",
      "\n",
      "My name is kim\n",
      "I am 22 years old\n",
      "I have 3000 won\n"
     ]
    }
   ],
   "source": [
    "# 공통 속성을 뽑아서 부모 클래스로 사용할 것.\n",
    "class Person:\n",
    "    def __init__(self, name, age, money):\n",
    "        self.name = name\n",
    "        self.age = age\n",
    "        self.money = money\n",
    "    \n",
    "    def give_money(self, other, how_money):\n",
    "        self.money -= how_money\n",
    "        other.money += how_money\n",
    "        \n",
    "    def __str__(self):\n",
    "        return '''\n",
    "My name is {}\n",
    "I am {} years old\n",
    "I have {} won'''.format(self.name, self.age, self.money)\n",
    "    \n",
    "p1 = Person('greg', 18, 5000)\n",
    "p2 = Person('kim', 22, 1000)\n",
    "print(p1)\n",
    "print(p2)\n",
    "p1.give_money(p2, 2000)\n",
    "print(p1)\n",
    "print(p2)"
   ]
  },
  {
   "cell_type": "code",
   "execution_count": null,
   "metadata": {
    "collapsed": true,
    "deletable": true,
    "editable": true
   },
   "outputs": [],
   "source": []
  }
 ],
 "metadata": {
  "kernelspec": {
   "display_name": "Python 3",
   "language": "python",
   "name": "python3"
  },
  "language_info": {
   "codemirror_mode": {
    "name": "ipython",
    "version": 3
   },
   "file_extension": ".py",
   "mimetype": "text/x-python",
   "name": "python",
   "nbconvert_exporter": "python",
   "pygments_lexer": "ipython3",
   "version": "3.6.0"
  }
 },
 "nbformat": 4,
 "nbformat_minor": 2
}
