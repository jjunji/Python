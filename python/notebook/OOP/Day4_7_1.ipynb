{
 "cells": [
  {
   "cell_type": "code",
   "execution_count": 8,
   "metadata": {
    "collapsed": true,
    "deletable": true,
    "editable": true
   },
   "outputs": [],
   "source": [
    "# 상속 = 자식 클래스가 부모 클래스의 모든 멤버와 메소드를 이어받는다.\n",
    "# is a / has a ->\n",
    "# 상속을 하기 전에 is-a 조건이 맞는지 확인.\n",
    "\n",
    "class Base:\n",
    "    def __init__(self, a, b):\n",
    "        self.a = a\n",
    "        self.b = b\n",
    "        \n",
    "    def func1(self):\n",
    "        print(\"func1 called\")\n",
    "        \n",
    "class Derived(Base):\n",
    "    pass\n"
   ]
  },
  {
   "cell_type": "code",
   "execution_count": 9,
   "metadata": {
    "collapsed": true,
    "deletable": true,
    "editable": true
   },
   "outputs": [],
   "source": [
    "d = Derived(5, 3)"
   ]
  },
  {
   "cell_type": "code",
   "execution_count": 10,
   "metadata": {
    "collapsed": false,
    "deletable": true,
    "editable": true
   },
   "outputs": [
    {
     "name": "stdout",
     "output_type": "stream",
     "text": [
      "5 3\n"
     ]
    }
   ],
   "source": [
    "print(d.a, d.b)"
   ]
  },
  {
   "cell_type": "code",
   "execution_count": 12,
   "metadata": {
    "collapsed": false,
    "deletable": true,
    "editable": true
   },
   "outputs": [
    {
     "name": "stdout",
     "output_type": "stream",
     "text": [
      "func1 called\n"
     ]
    }
   ],
   "source": [
    "d.func1()"
   ]
  },
  {
   "cell_type": "code",
   "execution_count": 5,
   "metadata": {
    "collapsed": false,
    "deletable": true,
    "editable": true
   },
   "outputs": [],
   "source": [
    "# 부모 : 자식이 모두 가지고 있는 공통된 속성(attribute)을 모두 여기에서 정의.\n",
    "\n",
    "class Computer:\n",
    "    def __init__(self, cpu, ram, hard_disk):\n",
    "        self.cpu = cpu\n",
    "        self.ram = ram\n",
    "        self.hard_disk = hard_disk\n",
    "        \n",
    "    def calculate(self):\n",
    "        print(\"computer calculating\")\n",
    "        \n",
    "    def calculate(self, a, b):\n",
    "        print(\"calculating overloading!\")\n",
    "        \n",
    "    def __str__(self):\n",
    "        return \"I am a computer.\"\n",
    "        \n",
    "class Laptop(Computer):\n",
    "    def __init__(self, cpu, ram, hard_disk, touch = \"normal\", cam = \"small\"):\n",
    "        # self.cpu = cpu 이렇게 코딩해도 되지만 부모 클래스에서 이미 self, cpu, ram을 넣어주는 함수가 있으므로 다른 방법으로 접근이 좋다.\n",
    "        # 2가지 방법\n",
    "        # 1. 클래스 이름으로 접근. \n",
    "        Computer.__init__(self, cpu, ram, hard_disk)\n",
    "        self.touch = touch\n",
    "        self.cam = cam\n",
    "        \n",
    "        # 정의되어 있지 않아도 calculate()가 존재.\n",
    "        \n",
    "        # 노트북이니까 조금 느린 연산을 한다는 것을 표현하고싶다.\n",
    "        # 같은 이름의 함수가 존재한다면, 인스턴스 내 함수 호출됨. -> 오버라이딩.\n",
    "    def calculate(self):\n",
    "        print(\"laptop calculating : a little bit slow\")\n",
    "        \n",
    "    def __str__(self):\n",
    "        super(Laptop, self).__str__() + \\\n",
    "        \"but I have mobility\"\n",
    "        \n",
    "class Desktop(Computer):\n",
    "    def __init__(self, cpu, ram, hard_disk, external_graphic = \"Geforce\"):\n",
    "        # 2. super()라는 클래스로 접근.\n",
    "        super(Desktop, self).__init__(cpu, ram, hard_disk)\n",
    "        \n",
    "    def calculate(self):\n",
    "        print(\"desktop calculating : a little bit fast\")"
   ]
  },
  {
   "cell_type": "code",
   "execution_count": 6,
   "metadata": {
    "collapsed": false,
    "deletable": true,
    "editable": true
   },
   "outputs": [],
   "source": [
    "l1 = Laptop(\"i5\", \"12g\", \"1t\")"
   ]
  },
  {
   "cell_type": "code",
   "execution_count": 7,
   "metadata": {
    "collapsed": false,
    "deletable": true,
    "editable": true
   },
   "outputs": [
    {
     "name": "stdout",
     "output_type": "stream",
     "text": [
      "laptop calculating : a little bit slow\n"
     ]
    }
   ],
   "source": [
    "l1.calculate()"
   ]
  },
  {
   "cell_type": "code",
   "execution_count": 9,
   "metadata": {
    "collapsed": true,
    "deletable": true,
    "editable": true
   },
   "outputs": [],
   "source": [
    "com1 = Computer(\"i5\", \"12g\", \"1t\")"
   ]
  },
  {
   "cell_type": "code",
   "execution_count": 11,
   "metadata": {
    "collapsed": false
   },
   "outputs": [
    {
     "name": "stdout",
     "output_type": "stream",
     "text": [
      "calculating overloading!\n"
     ]
    }
   ],
   "source": [
    "com1.calculate(2,3)  # 에러는 없지만, 오버로딩 안됨."
   ]
  },
  {
   "cell_type": "code",
   "execution_count": 12,
   "metadata": {
    "collapsed": false
   },
   "outputs": [
    {
     "ename": "TypeError",
     "evalue": "calculate() missing 2 required positional arguments: 'a' and 'b'",
     "output_type": "error",
     "traceback": [
      "\u001b[0;31m---------------------------------------------------------------------------\u001b[0m",
      "\u001b[0;31mTypeError\u001b[0m                                 Traceback (most recent call last)",
      "\u001b[0;32m<ipython-input-12-b812119133bb>\u001b[0m in \u001b[0;36m<module>\u001b[0;34m()\u001b[0m\n\u001b[0;32m----> 1\u001b[0;31m \u001b[0mcom1\u001b[0m\u001b[0;34m.\u001b[0m\u001b[0mcalculate\u001b[0m\u001b[0;34m(\u001b[0m\u001b[0;34m)\u001b[0m\u001b[0;34m\u001b[0m\u001b[0m\n\u001b[0m",
      "\u001b[0;31mTypeError\u001b[0m: calculate() missing 2 required positional arguments: 'a' and 'b'"
     ]
    }
   ],
   "source": [
    "com1.calculate() # 기존 calculte()를 인식하지 못하고 오류 발생."
   ]
  },
  {
   "cell_type": "code",
   "execution_count": null,
   "metadata": {
    "collapsed": true
   },
   "outputs": [],
   "source": []
  }
 ],
 "metadata": {
  "kernelspec": {
   "display_name": "Python 3",
   "language": "python",
   "name": "python3"
  },
  "language_info": {
   "codemirror_mode": {
    "name": "ipython",
    "version": 3
   },
   "file_extension": ".py",
   "mimetype": "text/x-python",
   "name": "python",
   "nbconvert_exporter": "python",
   "pygments_lexer": "ipython3",
   "version": "3.6.0"
  }
 },
 "nbformat": 4,
 "nbformat_minor": 2
}
