{
 "cells": [
  {
   "cell_type": "code",
   "execution_count": 25,
   "metadata": {
    "collapsed": true
   },
   "outputs": [],
   "source": [
    "# ex) A pliceman has a gun\n",
    "# has-a 기법은 상속의 개념이 아님. -> 객체합성 / 현재는 잘 사용하지 않음.\n",
    "# 레거시코드? \n",
    "\n",
    "class Gun:\n",
    "    def __init__(self, kind):\n",
    "        self.kind = kind\n",
    "        \n",
    "    def bang(self):\n",
    "        print(\"빵야 빵야~\")\n",
    "        \n",
    "# 객체합성\n",
    "class Police:\n",
    "    def __init__(self, gun_kind = ''):\n",
    "        if gun_kind:\n",
    "            self.gun = Gun(gun_kind)\n",
    "        else:\n",
    "            self.gun = None\n",
    "            \n",
    "    def get_gun(self, gun_kind):\n",
    "        self.gun = Gun(gun_kind)\n",
    "            \n",
    "    def shoot(self):\n",
    "        if self.gun:\n",
    "            self.gun.bang()\n",
    "        else:\n",
    "            print(\"총 없음.\")\n",
    "        \n"
   ]
  },
  {
   "cell_type": "code",
   "execution_count": 26,
   "metadata": {
    "collapsed": false
   },
   "outputs": [],
   "source": [
    "p1 = Police('리볼버')"
   ]
  },
  {
   "cell_type": "code",
   "execution_count": 27,
   "metadata": {
    "collapsed": false
   },
   "outputs": [
    {
     "name": "stdout",
     "output_type": "stream",
     "text": [
      "빵야 빵야~\n"
     ]
    }
   ],
   "source": [
    "p1.shoot()"
   ]
  },
  {
   "cell_type": "code",
   "execution_count": 28,
   "metadata": {
    "collapsed": false
   },
   "outputs": [],
   "source": [
    "p2 = Police()"
   ]
  },
  {
   "cell_type": "code",
   "execution_count": 29,
   "metadata": {
    "collapsed": false
   },
   "outputs": [
    {
     "name": "stdout",
     "output_type": "stream",
     "text": [
      "총 없음.\n"
     ]
    }
   ],
   "source": [
    "p2.shoot()"
   ]
  },
  {
   "cell_type": "code",
   "execution_count": 30,
   "metadata": {
    "collapsed": true
   },
   "outputs": [],
   "source": [
    "p2.get_gun('기관총')"
   ]
  },
  {
   "cell_type": "code",
   "execution_count": 31,
   "metadata": {
    "collapsed": false
   },
   "outputs": [
    {
     "name": "stdout",
     "output_type": "stream",
     "text": [
      "빵야 빵야~\n"
     ]
    }
   ],
   "source": [
    "p2.shoot()"
   ]
  },
  {
   "cell_type": "code",
   "execution_count": null,
   "metadata": {
    "collapsed": true
   },
   "outputs": [],
   "source": []
  }
 ],
 "metadata": {
  "kernelspec": {
   "display_name": "Python 3",
   "language": "python",
   "name": "python3"
  },
  "language_info": {
   "codemirror_mode": {
    "name": "ipython",
    "version": 3
   },
   "file_extension": ".py",
   "mimetype": "text/x-python",
   "name": "python",
   "nbconvert_exporter": "python",
   "pygments_lexer": "ipython3",
   "version": "3.6.0"
  }
 },
 "nbformat": 4,
 "nbformat_minor": 2
}
