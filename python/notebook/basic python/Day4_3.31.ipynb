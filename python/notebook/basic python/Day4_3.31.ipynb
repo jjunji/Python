{
 "cells": [
  {
   "cell_type": "code",
   "execution_count": 15,
   "metadata": {
    "collapsed": false
   },
   "outputs": [
    {
     "name": "stdout",
     "output_type": "stream",
     "text": [
      "insert number1 : 7\n",
      "insert number2 : 12\n"
     ]
    }
   ],
   "source": [
    "# Ethiopian Multiplication\n",
    "# 2로 나누고 곱하는 과정으로 두 수의 곱을 구현하는 방법\n",
    "# 리스트, 스플릿, 사용자에게 숫자 2개 받기, while true\n",
    "\n",
    "\n",
    "num1 = int(input(\"insert number1 : \"))\n",
    "num2 = int(input(\"insert number2 : \"))\n",
    "tmp = 0\n",
    "\n",
    "#print(num1,num2)\n",
    "while num1 == 1:\n",
    "    if num1 % 2 == 0:\n",
    "        print(num1,num2,\"struck\")\n",
    "        num1 = num1//2\n",
    "        num2 = num2*2\n",
    "       \n",
    "    #if num1 % 2 == 0:\n",
    "        #print(num1,num2,\"struck\")\n",
    "    #num1 = num1//2             -> 위와 비교해서 num변수 들여쓰기 여부에 따라 값의 차이가 있나\n",
    "    #num2 = num2*2\n",
    "    \n",
    "    else:\n",
    "        tmp += num2\n",
    "        print(num1, num2,\"keep\", tmp)\n"
   ]
  },
  {
   "cell_type": "code",
   "execution_count": 20,
   "metadata": {
    "collapsed": false
   },
   "outputs": [
    {
     "name": "stdout",
     "output_type": "stream",
     "text": [
      "How many times want to curse the beast?? : 10\n",
      "Fusion!!(9 times left)\n",
      "Fusion!!(8 times left)\n",
      "Fusion!!(7 times left)\n",
      "Fusion!!(6 times left)\n",
      "Fusion!!(5 times left)\n",
      "Fusion!!(4 times left)\n",
      "Fusion!!(3 times left)\n",
      "Fusion!!(2 times left)\n",
      "Fusion!!(1 times left)\n",
      "Fusion!!(0 times left)\n",
      "curse complete!\n"
     ]
    }
   ],
   "source": [
    "times = int(input(\"How many times want to curse the beast?? : \"))\n",
    "def recurse_beast(a):\n",
    "    if a == 0:\n",
    "        print(\"curse complete!\")\n",
    "    else:\n",
    "        print(\"Fusion!!(%d times left)\"% (a-1))\n",
    "        recurse_beast(a-1)\n",
    "        \n",
    "recurse_beast(times)"
   ]
  },
  {
   "cell_type": "code",
   "execution_count": 22,
   "metadata": {
    "collapsed": false
   },
   "outputs": [
    {
     "name": "stdout",
     "output_type": "stream",
     "text": [
      "[2, 4, 6, 8, 10]\n"
     ]
    }
   ],
   "source": [
    "old_list = [1,2,3,4,5,]\n",
    "\n",
    "doubled_list = []\n",
    "for i in old_list:\n",
    "    doubled_list.append(i*2)\n",
    "\n",
    "print(doubled_list)"
   ]
  },
  {
   "cell_type": "code",
   "execution_count": 23,
   "metadata": {
    "collapsed": false
   },
   "outputs": [
    {
     "name": "stdout",
     "output_type": "stream",
     "text": [
      "[2, 4, 6, 8, 10]\n"
     ]
    }
   ],
   "source": [
    "doubled_listcomp = [i*2 for i in old_list]   #만들기 복잡하면 먼저 위와 같이 구성하고 리스트를 만든후 반복 조건 정의 (어떻게 반복할 것인지 복붙 후 조건 명시)\n",
    "print(doubled_listcomp)"
   ]
  },
  {
   "cell_type": "code",
   "execution_count": 26,
   "metadata": {
    "collapsed": false
   },
   "outputs": [
    {
     "name": "stdout",
     "output_type": "stream",
     "text": [
      "[4, 8]\n"
     ]
    }
   ],
   "source": [
    "old_list = [1,2,3,4,5,]\n",
    "\n",
    "doubled_list = []\n",
    "for i in old_list:\n",
    "    if i % 2 == 0:\n",
    "        doubled_list.append(i*2)\n",
    "\n",
    "print(doubled_list)"
   ]
  },
  {
   "cell_type": "code",
   "execution_count": 27,
   "metadata": {
    "collapsed": false
   },
   "outputs": [
    {
     "name": "stdout",
     "output_type": "stream",
     "text": [
      "[4, 8]\n"
     ]
    }
   ],
   "source": [
    "# 어떻게 반복할 것인지, 조건,\n",
    "# \n",
    "\n",
    "doubled_listcon = [i*2 for i in old_list if i%2 == 0]\n",
    "print(doubled_listcon)"
   ]
  },
  {
   "cell_type": "code",
   "execution_count": 28,
   "metadata": {
    "collapsed": true
   },
   "outputs": [],
   "source": [
    "f = open(\"Newfile.txt\",'w')\n",
    "f.close()"
   ]
  },
  {
   "cell_type": "code",
   "execution_count": 35,
   "metadata": {
    "collapsed": false
   },
   "outputs": [],
   "source": [
    "f = open(\"Newfile.txt\", 'a')\n",
    "for i in range(1,11):\n",
    "    text = \"line %d \\n\" %i\n",
    "    f.write(text)\n",
    "f.close()\n",
    "\n",
    "# \"../java.Newfile.txt\""
   ]
  },
  {
   "cell_type": "code",
   "execution_count": 36,
   "metadata": {
    "collapsed": false
   },
   "outputs": [
    {
     "name": "stdout",
     "output_type": "stream",
     "text": [
      "line 1, \n",
      "\n"
     ]
    }
   ],
   "source": [
    "f = open(\"Newfile.txt\", 'r')\n",
    "text = f.readline()\n",
    "print(text)\n",
    "f.close()"
   ]
  },
  {
   "cell_type": "code",
   "execution_count": 38,
   "metadata": {
    "collapsed": false
   },
   "outputs": [
    {
     "name": "stdout",
     "output_type": "stream",
     "text": [
      "line 1, \n",
      "\n",
      "line 2, \n",
      "\n",
      "line 3, \n",
      "\n",
      "line 4, \n",
      "\n",
      "line 5, \n",
      "\n",
      "line 6, \n",
      "\n",
      "line 7, \n",
      "\n",
      "line 8, \n",
      "\n",
      "line 9, \n",
      "\n",
      "line 10, \n",
      "\n",
      "line 1 \n",
      "\n",
      "line 2 \n",
      "\n",
      "line 3 \n",
      "\n",
      "line 4 \n",
      "\n",
      "line 5 \n",
      "\n",
      "line 6 \n",
      "\n",
      "line 7 \n",
      "\n",
      "line 8 \n",
      "\n",
      "line 9 \n",
      "\n",
      "line 10 \n",
      "\n",
      "line 1 \n",
      "\n",
      "line 2 \n",
      "\n",
      "line 3 \n",
      "\n",
      "line 4 \n",
      "\n",
      "line 5 \n",
      "\n",
      "line 6 \n",
      "\n",
      "line 7 \n",
      "\n",
      "line 8 \n",
      "\n",
      "line 9 \n",
      "\n",
      "line 10 \n",
      "\n"
     ]
    }
   ],
   "source": [
    "f = open(\"Newfile.txt\", 'r')\n",
    "texts = f.readlines()\n",
    "for text in texts:\n",
    "    print(text)\n",
    "f.close()"
   ]
  },
  {
   "cell_type": "code",
   "execution_count": 39,
   "metadata": {
    "collapsed": true
   },
   "outputs": [],
   "source": [
    "f = open(\"Newfile.txt\", 'a')\n",
    "for i in range(11,12):\n",
    "    text = \"New line %d\" % i\n",
    "    f.write(text)\n",
    "    \n",
    "f.close()"
   ]
  },
  {
   "cell_type": "code",
   "execution_count": 40,
   "metadata": {
    "collapsed": true
   },
   "outputs": [],
   "source": [
    "with open(\"foo.txt\", 'w') as f:\n",
    "    f.write(\"foo is text dummy\")"
   ]
  },
  {
   "cell_type": "code",
   "execution_count": 44,
   "metadata": {
    "collapsed": false
   },
   "outputs": [
    {
     "name": "stdout",
     "output_type": "stream",
     "text": [
      "Type the number : sadg\n",
      "Are you idi*t????? type the Number!!!\n",
      "invalid literal for int() with base 10: 'sadg'\n"
     ]
    }
   ],
   "source": [
    "try:\n",
    "    some_input = int(input(\"Type the number : \"))\n",
    "except ValueError as e:    # e : error 로그 남기기\n",
    "    print(\"Are you idi*t????? type the Number!!!\")\n",
    "    print(e)"
   ]
  },
  {
   "cell_type": "code",
   "execution_count": 42,
   "metadata": {
    "collapsed": false
   },
   "outputs": [
    {
     "ename": "ValueError",
     "evalue": "invalid literal for int() with base 10: 'a'",
     "output_type": "error",
     "traceback": [
      "\u001b[0;31m---------------------------------------------------------------------------\u001b[0m",
      "\u001b[0;31mValueError\u001b[0m                                Traceback (most recent call last)",
      "\u001b[0;32m<ipython-input-42-91097a4105a2>\u001b[0m in \u001b[0;36m<module>\u001b[0;34m()\u001b[0m\n\u001b[0;32m----> 1\u001b[0;31m \u001b[0mint\u001b[0m\u001b[0;34m(\u001b[0m\u001b[0;34m\"a\"\u001b[0m\u001b[0;34m)\u001b[0m\u001b[0;34m\u001b[0m\u001b[0m\n\u001b[0m",
      "\u001b[0;31mValueError\u001b[0m: invalid literal for int() with base 10: 'a'"
     ]
    }
   ],
   "source": [
    "int(\"a\")"
   ]
  },
  {
   "cell_type": "code",
   "execution_count": null,
   "metadata": {
    "collapsed": true
   },
   "outputs": [],
   "source": []
  }
 ],
 "metadata": {
  "kernelspec": {
   "display_name": "Python 3",
   "language": "python",
   "name": "python3"
  },
  "language_info": {
   "codemirror_mode": {
    "name": "ipython",
    "version": 3
   },
   "file_extension": ".py",
   "mimetype": "text/x-python",
   "name": "python",
   "nbconvert_exporter": "python",
   "pygments_lexer": "ipython3",
   "version": "3.6.0"
  }
 },
 "nbformat": 4,
 "nbformat_minor": 2
}
