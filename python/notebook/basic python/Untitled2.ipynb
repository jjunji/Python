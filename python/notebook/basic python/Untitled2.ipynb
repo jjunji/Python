{
 "cells": [
  {
   "cell_type": "code",
   "execution_count": 17,
   "metadata": {
    "collapsed": true
   },
   "outputs": [],
   "source": [
    "a = 10\n",
    "\n",
    "def func1():\n",
    "    b = 5\n",
    "    c = 33\n",
    "    \n",
    "    def func2():\n",
    "        global a\n",
    "        a = 40\n",
    "        nonlocal b,c\n",
    "        b = 10000\n",
    "        c = 20000\n",
    "        print(a,b,c)\n",
    "    func2()\n",
    "    print(func2.__dict__)"
   ]
  },
  {
   "cell_type": "code",
   "execution_count": 18,
   "metadata": {
    "collapsed": false
   },
   "outputs": [
    {
     "name": "stdout",
     "output_type": "stream",
     "text": [
      "40 10000 20000\n",
      "{}\n"
     ]
    }
   ],
   "source": [
    "func1()"
   ]
  },
  {
   "cell_type": "code",
   "execution_count": 19,
   "metadata": {
    "collapsed": false
   },
   "outputs": [
    {
     "data": {
      "text/plain": [
       "40"
      ]
     },
     "execution_count": 19,
     "metadata": {},
     "output_type": "execute_result"
    }
   ],
   "source": [
    "a"
   ]
  },
  {
   "cell_type": "code",
   "execution_count": 21,
   "metadata": {
    "collapsed": false
   },
   "outputs": [
    {
     "data": {
      "text/plain": [
       "{'In': ['',\n",
       "  'a = 10\\n\\ndef func1():\\n    b = 5\\n    c = 3\\n    def fun2():\\n        a = 100\\n        b = 50\\n        c = 3\\n        print(a,b,c)',\n",
       "  'func1()',\n",
       "  'a = 10\\n\\ndef func1():\\n    b = 5\\n    c = 3\\n    def fun2():\\n        a = 100\\n        b = 50\\n        c = 3\\n        print(a,b,c)\\n    func2()',\n",
       "  'func1()',\n",
       "  'a = 10\\n\\ndef func1():\\n    b = 5\\n    c = 3\\n    def func2():\\n        a = 100\\n        b = 50\\n        c = 3\\n        print(a,b,c)\\n    func2()',\n",
       "  'func1()',\n",
       "  'a = 10\\n\\ndef func1():\\n    b = 5\\n    c = 33\\n    \\n    def func2():\\n        global a\\n        a = 40\\n        b = 50\\n        c = 3\\n        print(a,b,c)\\n    func2()',\n",
       "  'func1()',\n",
       "  'a = 10\\n\\ndef func1():\\n    b = 5\\n    c = 33\\n    \\n    def func2():\\n        global a\\n        a = 40\\n        nonlocal b,c\\n        b = 10000\\n        c = 20000\\n        print(a,b,c)\\n    func2()',\n",
       "  'func1()',\n",
       "  'a = 10\\n\\ndef func1():\\n    b = 5\\n    c = 33\\n    \\n    def func2():\\n        global a\\n        a = 40\\n        nonlocal b,c\\n        b = 10000\\n        c = 20000\\n        print(a,b,c)\\n    func2()\\n    print(func2__dict__)',\n",
       "  'func1()',\n",
       "  'a = 10\\n\\ndef func1():\\n    b = 5\\n    c = 33\\n    \\n    def func2():\\n        global a\\n        a = 40\\n        nonlocal b,c\\n        b = 10000\\n        c = 20000\\n        print(a,b,c)\\n    func2()\\n    print(func2__dict_)',\n",
       "  'func1()',\n",
       "  'a = 10\\n\\ndef func1():\\n    b = 5\\n    c = 33\\n    \\n    def func2():\\n        global a\\n        a = 40\\n        nonlocal b,c\\n        b = 10000\\n        c = 20000\\n        print(a,b,c)\\n    func2()\\n    print(func2.__dict_)',\n",
       "  'func1()',\n",
       "  'a = 10\\n\\ndef func1():\\n    b = 5\\n    c = 33\\n    \\n    def func2():\\n        global a\\n        a = 40\\n        nonlocal b,c\\n        b = 10000\\n        c = 20000\\n        print(a,b,c)\\n    func2()\\n    print(func2.__dict__)',\n",
       "  'func1()',\n",
       "  'a',\n",
       "  'global s',\n",
       "  'globals()'],\n",
       " 'Out': {19: 40},\n",
       " '_': 40,\n",
       " '_19': 40,\n",
       " '__': '',\n",
       " '___': '',\n",
       " '__builtin__': <module 'builtins' (built-in)>,\n",
       " '__builtins__': <module 'builtins' (built-in)>,\n",
       " '__doc__': 'Automatically created module for IPython interactive environment',\n",
       " '__loader__': None,\n",
       " '__name__': '__main__',\n",
       " '__package__': None,\n",
       " '__spec__': None,\n",
       " '_dh': ['/home/jun/Documents/css/python/notebook/basic python'],\n",
       " '_i': 'global s',\n",
       " '_i1': 'a = 10\\n\\ndef func1():\\n    b = 5\\n    c = 3\\n    def fun2():\\n        a = 100\\n        b = 50\\n        c = 3\\n        print(a,b,c)',\n",
       " '_i10': 'func1()',\n",
       " '_i11': 'a = 10\\n\\ndef func1():\\n    b = 5\\n    c = 33\\n    \\n    def func2():\\n        global a\\n        a = 40\\n        nonlocal b,c\\n        b = 10000\\n        c = 20000\\n        print(a,b,c)\\n    func2()\\n    print(func2__dict__)',\n",
       " '_i12': 'func1()',\n",
       " '_i13': 'a = 10\\n\\ndef func1():\\n    b = 5\\n    c = 33\\n    \\n    def func2():\\n        global a\\n        a = 40\\n        nonlocal b,c\\n        b = 10000\\n        c = 20000\\n        print(a,b,c)\\n    func2()\\n    print(func2__dict_)',\n",
       " '_i14': 'func1()',\n",
       " '_i15': 'a = 10\\n\\ndef func1():\\n    b = 5\\n    c = 33\\n    \\n    def func2():\\n        global a\\n        a = 40\\n        nonlocal b,c\\n        b = 10000\\n        c = 20000\\n        print(a,b,c)\\n    func2()\\n    print(func2.__dict_)',\n",
       " '_i16': 'func1()',\n",
       " '_i17': 'a = 10\\n\\ndef func1():\\n    b = 5\\n    c = 33\\n    \\n    def func2():\\n        global a\\n        a = 40\\n        nonlocal b,c\\n        b = 10000\\n        c = 20000\\n        print(a,b,c)\\n    func2()\\n    print(func2.__dict__)',\n",
       " '_i18': 'func1()',\n",
       " '_i19': 'a',\n",
       " '_i2': 'func1()',\n",
       " '_i20': 'global s',\n",
       " '_i21': 'globals()',\n",
       " '_i3': 'a = 10\\n\\ndef func1():\\n    b = 5\\n    c = 3\\n    def fun2():\\n        a = 100\\n        b = 50\\n        c = 3\\n        print(a,b,c)\\n    func2()',\n",
       " '_i4': 'func1()',\n",
       " '_i5': 'a = 10\\n\\ndef func1():\\n    b = 5\\n    c = 3\\n    def func2():\\n        a = 100\\n        b = 50\\n        c = 3\\n        print(a,b,c)\\n    func2()',\n",
       " '_i6': 'func1()',\n",
       " '_i7': 'a = 10\\n\\ndef func1():\\n    b = 5\\n    c = 33\\n    \\n    def func2():\\n        global a\\n        a = 40\\n        b = 50\\n        c = 3\\n        print(a,b,c)\\n    func2()',\n",
       " '_i8': 'func1()',\n",
       " '_i9': 'a = 10\\n\\ndef func1():\\n    b = 5\\n    c = 33\\n    \\n    def func2():\\n        global a\\n        a = 40\\n        nonlocal b,c\\n        b = 10000\\n        c = 20000\\n        print(a,b,c)\\n    func2()',\n",
       " '_ih': ['',\n",
       "  'a = 10\\n\\ndef func1():\\n    b = 5\\n    c = 3\\n    def fun2():\\n        a = 100\\n        b = 50\\n        c = 3\\n        print(a,b,c)',\n",
       "  'func1()',\n",
       "  'a = 10\\n\\ndef func1():\\n    b = 5\\n    c = 3\\n    def fun2():\\n        a = 100\\n        b = 50\\n        c = 3\\n        print(a,b,c)\\n    func2()',\n",
       "  'func1()',\n",
       "  'a = 10\\n\\ndef func1():\\n    b = 5\\n    c = 3\\n    def func2():\\n        a = 100\\n        b = 50\\n        c = 3\\n        print(a,b,c)\\n    func2()',\n",
       "  'func1()',\n",
       "  'a = 10\\n\\ndef func1():\\n    b = 5\\n    c = 33\\n    \\n    def func2():\\n        global a\\n        a = 40\\n        b = 50\\n        c = 3\\n        print(a,b,c)\\n    func2()',\n",
       "  'func1()',\n",
       "  'a = 10\\n\\ndef func1():\\n    b = 5\\n    c = 33\\n    \\n    def func2():\\n        global a\\n        a = 40\\n        nonlocal b,c\\n        b = 10000\\n        c = 20000\\n        print(a,b,c)\\n    func2()',\n",
       "  'func1()',\n",
       "  'a = 10\\n\\ndef func1():\\n    b = 5\\n    c = 33\\n    \\n    def func2():\\n        global a\\n        a = 40\\n        nonlocal b,c\\n        b = 10000\\n        c = 20000\\n        print(a,b,c)\\n    func2()\\n    print(func2__dict__)',\n",
       "  'func1()',\n",
       "  'a = 10\\n\\ndef func1():\\n    b = 5\\n    c = 33\\n    \\n    def func2():\\n        global a\\n        a = 40\\n        nonlocal b,c\\n        b = 10000\\n        c = 20000\\n        print(a,b,c)\\n    func2()\\n    print(func2__dict_)',\n",
       "  'func1()',\n",
       "  'a = 10\\n\\ndef func1():\\n    b = 5\\n    c = 33\\n    \\n    def func2():\\n        global a\\n        a = 40\\n        nonlocal b,c\\n        b = 10000\\n        c = 20000\\n        print(a,b,c)\\n    func2()\\n    print(func2.__dict_)',\n",
       "  'func1()',\n",
       "  'a = 10\\n\\ndef func1():\\n    b = 5\\n    c = 33\\n    \\n    def func2():\\n        global a\\n        a = 40\\n        nonlocal b,c\\n        b = 10000\\n        c = 20000\\n        print(a,b,c)\\n    func2()\\n    print(func2.__dict__)',\n",
       "  'func1()',\n",
       "  'a',\n",
       "  'global s',\n",
       "  'globals()'],\n",
       " '_ii': 'a',\n",
       " '_iii': 'func1()',\n",
       " '_oh': {19: 40},\n",
       " '_sh': <module 'IPython.core.shadowns' from '/home/jun/.pyenv/versions/3.6.0/envs/css-3.6.0/lib/python3.6/site-packages/IPython/core/shadowns.py'>,\n",
       " 'a': 40,\n",
       " 'exit': <IPython.core.autocall.ZMQExitAutocall at 0x7fbf7158a438>,\n",
       " 'func1': <function __main__.func1>,\n",
       " 'get_ipython': <bound method InteractiveShell.get_ipython of <ipykernel.zmqshell.ZMQInteractiveShell object at 0x7fbf74e3eef0>>,\n",
       " 'quit': <IPython.core.autocall.ZMQExitAutocall at 0x7fbf7158a438>}"
      ]
     },
     "execution_count": 21,
     "metadata": {},
     "output_type": "execute_result"
    }
   ],
   "source": [
    "globals()"
   ]
  },
  {
   "cell_type": "code",
   "execution_count": null,
   "metadata": {
    "collapsed": true
   },
   "outputs": [],
   "source": []
  }
 ],
 "metadata": {
  "kernelspec": {
   "display_name": "Python 3",
   "language": "python",
   "name": "python3"
  },
  "language_info": {
   "codemirror_mode": {
    "name": "ipython",
    "version": 3
   },
   "file_extension": ".py",
   "mimetype": "text/x-python",
   "name": "python",
   "nbconvert_exporter": "python",
   "pygments_lexer": "ipython3",
   "version": "3.6.0"
  }
 },
 "nbformat": 4,
 "nbformat_minor": 2
}
