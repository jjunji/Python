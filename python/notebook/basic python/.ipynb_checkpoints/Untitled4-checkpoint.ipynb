{
 "cells": [
  {
   "cell_type": "code",
   "execution_count": 15,
   "metadata": {
    "collapsed": false
   },
   "outputs": [],
   "source": [
    "class Point:\n",
    "    # 클래스 멤버\n",
    "    a = 10;\n",
    "    def __init__(self, _x, _y):\n",
    "        # 인스턴스 멤버\n",
    "        self.x = _x\n",
    "        self.y = _y\n",
    "        \n",
    "      # 클래스 메소드  \n",
    "    @classmethod\n",
    "    def class_method(cls):     # clss는 클래스를 나타내는 관용적 표현. 다른 문자를 써도 문제는 없음.\n",
    "        print(\"class_method_called\")\n",
    "        \n",
    "      # 인스턴스 메소드  \n",
    "    def instance_func(self):   # 인스턴스 function은 인스턴스가 있어야 호출 가능.\n",
    "        print(\"instance_func called\")\n",
    "    \n",
    "    def __str__(self):\n",
    "        return \"{ {}, {} }\".format(self.x, self,y)"
   ]
  },
  {
   "cell_type": "code",
   "execution_count": 17,
   "metadata": {
    "collapsed": false
   },
   "outputs": [
    {
     "name": "stdout",
     "output_type": "stream",
     "text": [
      "class_method_called\n"
     ]
    }
   ],
   "source": [
    "Point.class_method()"
   ]
  },
  {
   "cell_type": "code",
   "execution_count": null,
   "metadata": {
    "collapsed": true
   },
   "outputs": [],
   "source": []
  }
 ],
 "metadata": {
  "kernelspec": {
   "display_name": "Python 3",
   "language": "python",
   "name": "python3"
  },
  "language_info": {
   "codemirror_mode": {
    "name": "ipython",
    "version": 3
   },
   "file_extension": ".py",
   "mimetype": "text/x-python",
   "name": "python",
   "nbconvert_exporter": "python",
   "pygments_lexer": "ipython3",
   "version": "3.6.0"
  }
 },
 "nbformat": 4,
 "nbformat_minor": 2
}
