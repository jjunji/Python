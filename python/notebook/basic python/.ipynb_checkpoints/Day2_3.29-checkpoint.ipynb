{
 "cells": [
  {
   "cell_type": "code",
   "execution_count": 1,
   "metadata": {
    "collapsed": true
   },
   "outputs": [],
   "source": [
    "# list 나 tuple dictionary 를 사용할때 마지막요소 뒤에 ,를 붙여줘야 git에 올라갔을때 보기 편함-> 만약 코딩 한줄을 추가한다면,이 없을 경우\n",
    "# ,를 입력하고 다음줄에 다음코딩을 입력하게 되므로 2줄을 추가했다고 업데이트됨/ , 있다면 바로 그다음에 새 코딩을 입력하면 되므로 한줄만 업데이트.\n",
    "\n",
    "# "
   ]
  },
  {
   "cell_type": "code",
   "execution_count": null,
   "metadata": {
    "collapsed": true
   },
   "outputs": [],
   "source": []
  },
  {
   "cell_type": "code",
   "execution_count": null,
   "metadata": {
    "collapsed": true
   },
   "outputs": [],
   "source": [
    "tuple2 = ('python', 'java')\n"
   ]
  },
  {
   "cell_type": "code",
   "execution_count": 8,
   "metadata": {
    "collapsed": true
   },
   "outputs": [],
   "source": [
    "sw_x = 1\n",
    "sw_y = 'python'"
   ]
  },
  {
   "cell_type": "code",
   "execution_count": 3,
   "metadata": {
    "collapsed": false
   },
   "outputs": [
    {
     "name": "stdout",
     "output_type": "stream",
     "text": [
      "1 1\n"
     ]
    }
   ],
   "source": [
    "sw_y = sw_x\n",
    "sw_x = sw_y\n",
    "print(sw_x, sw_y)"
   ]
  },
  {
   "cell_type": "code",
   "execution_count": 9,
   "metadata": {
    "collapsed": false
   },
   "outputs": [
    {
     "name": "stdout",
     "output_type": "stream",
     "text": [
      "python 1\n"
     ]
    }
   ],
   "source": [
    "temp = sw_x\n",
    "sw_x = sw_y\n",
    "sw_y = temp\n",
    "print(sw_x, sw_y)"
   ]
  },
  {
   "cell_type": "code",
   "execution_count": 11,
   "metadata": {
    "collapsed": false
   },
   "outputs": [
    {
     "name": "stdout",
     "output_type": "stream",
     "text": [
      "python 1\n"
     ]
    }
   ],
   "source": [
    "(sw_y, sw_x) = (sw_x, sw_y)\n",
    "print(sw_x, sw_y)"
   ]
  },
  {
   "cell_type": "code",
   "execution_count": 16,
   "metadata": {
    "collapsed": false
   },
   "outputs": [
    {
     "name": "stdout",
     "output_type": "stream",
     "text": [
      "2 2\n"
     ]
    }
   ],
   "source": [
    "def quot_and_rem(a,b):\n",
    "    quot = a // b\n",
    "    rem = a % b\n",
    "    return (quot, rem)\n",
    "\n",
    "(quot, rem) = quot_and_rem(12,5)   #(quot, rem) = 이부분은 변수이므로 다른 변수명을 사용해도 되지만 파이썬에서는 명시적으로 사용하는 것이 철학.\n",
    "print(quot, rem)"
   ]
  },
  {
   "cell_type": "code",
   "execution_count": 17,
   "metadata": {
    "collapsed": false
   },
   "outputs": [
    {
     "name": "stdout",
     "output_type": "stream",
     "text": [
      "{'name': 'foo bar'}\n"
     ]
    }
   ],
   "source": [
    "dict1 = {}\n",
    "dict1 = {\n",
    "    'name': 'foo bar',                     #'name': 이름값에 ':'를 바로 붙인 후 한칸 띄우고 값을 입력하는 것이 명시적임.\n",
    "}                                          # dictionary는 키값으로 접근함.\n",
    "print(dict1)"
   ]
  },
  {
   "cell_type": "markdown",
   "metadata": {},
   "source": []
  },
  {
   "cell_type": "code",
   "execution_count": 19,
   "metadata": {
    "collapsed": false
   },
   "outputs": [
    {
     "name": "stdout",
     "output_type": "stream",
     "text": [
      "{'korean': 70, 'math': 80, 'science': [50, 80, 25, 100]}\n",
      "{'korean': 70, 'math': 80, 'science': [50, 80, 25, 100], 'english': 'pass'}\n"
     ]
    }
   ],
   "source": [
    "score = {'korean': 70, 'math': 80, 'science': [50, 80, 25, 100],}\n",
    "print(score)\n",
    "\n",
    "score['english'] = \"pass\"\n",
    "print(score)"
   ]
  },
  {
   "cell_type": "code",
   "execution_count": 20,
   "metadata": {
    "collapsed": true
   },
   "outputs": [],
   "source": [
    "del score['math']"
   ]
  },
  {
   "cell_type": "code",
   "execution_count": 21,
   "metadata": {
    "collapsed": false
   },
   "outputs": [
    {
     "name": "stdout",
     "output_type": "stream",
     "text": [
      "{'korean': 70, 'science': [50, 80, 25, 100], 'english': 'pass'}\n"
     ]
    }
   ],
   "source": [
    "print(score)"
   ]
  },
  {
   "cell_type": "code",
   "execution_count": 26,
   "metadata": {
    "collapsed": false
   },
   "outputs": [
    {
     "name": "stdout",
     "output_type": "stream",
     "text": [
      "70\n",
      "dict_keys(['korean', 'science', 'english'])\n",
      "dict_values([70, [50, 80, 25, 100], 'pass'])\n",
      "dict_items([('korean', 70), ('science', [50, 80, 25, 100]), ('english', 'pass')])\n"
     ]
    }
   ],
   "source": [
    "print(score['korean'])\n",
    "print(score.keys())\n",
    "print(score.values())\n",
    "print(score.items())"
   ]
  },
  {
   "cell_type": "code",
   "execution_count": 29,
   "metadata": {
    "collapsed": false
   },
   "outputs": [
    {
     "name": "stdout",
     "output_type": "stream",
     "text": [
      "n is less than 10\n"
     ]
    }
   ],
   "source": [
    "n = 9\n",
    "if n > 10:\n",
    "    print('n is more than 10')\n",
    "else:\n",
    "    print('n is less than 10')   #같은 하위 조건은 시작 라인이 같게 정리"
   ]
  },
  {
   "cell_type": "code",
   "execution_count": 30,
   "metadata": {
    "collapsed": false
   },
   "outputs": [
    {
     "name": "stdout",
     "output_type": "stream",
     "text": [
      "n is less than 5\n"
     ]
    }
   ],
   "source": [
    "n = 3\n",
    "if n > 10:\n",
    "    print('n is more than 10')\n",
    "else:\n",
    "    if n > 5:\n",
    "        print('n is more than 5')\n",
    "    else:\n",
    "        if n < 5:\n",
    "            print('n is less than 5')                  #elif로 fefactory 하면 (아래)"
   ]
  },
  {
   "cell_type": "code",
   "execution_count": 31,
   "metadata": {
    "collapsed": false
   },
   "outputs": [
    {
     "name": "stdout",
     "output_type": "stream",
     "text": [
      "n is negative value\n"
     ]
    }
   ],
   "source": [
    "n = -3\n",
    "if n > 10:\n",
    "    print('n is more than 10')\n",
    "elif n > 5:\n",
    "        print('n is more than 5')\n",
    "elif n < 0:\n",
    "        print('n is negative value')\n",
    "else:\n",
    "    print('n is less than 5')"
   ]
  },
  {
   "cell_type": "code",
   "execution_count": null,
   "metadata": {
    "collapsed": false
   },
   "outputs": [],
   "source": [
    "import random\n",
    "\n",
    "\n",
    "answer = random.randint(1,100)\n",
    "print(answer)\n",
    "\n",
    "username = input(\"Hi there, What's your name??\")\n",
    "guess = eval(input(\"Hi, \"+ username + \" guess the number: \"))\n",
    "\n",
    "if guess == answer:\n",
    "    print(\"Correct! The answer was \" + str(answer))\n",
    "else:\n",
    "    print(\"That's not what I wanted!!\")"
   ]
  },
  {
   "cell_type": "code",
   "execution_count": null,
   "metadata": {
    "collapsed": true
   },
   "outputs": [],
   "source": [
    "# Fizzbuzz\n",
    "\n",
    "num = input(\"input number : \")\n",
    "print(num)"
   ]
  },
  {
   "cell_type": "code",
   "execution_count": 37,
   "metadata": {
    "collapsed": false
   },
   "outputs": [
    {
     "name": "stdout",
     "output_type": "stream",
     "text": [
      "Type the number: 20\n",
      "1\n",
      "2\n",
      "fizz\n",
      "4\n",
      "buzz\n",
      "fizz\n",
      "7\n",
      "8\n",
      "fizz\n",
      "buzz\n",
      "11\n",
      "fizz\n",
      "13\n",
      "14\n",
      "fizzbuzz\n",
      "16\n",
      "17\n",
      "fizz\n",
      "19\n",
      "buzz\n"
     ]
    }
   ],
   "source": [
    "# Fizzbuzz(3의 배수일 떄 fizz, 5의 배수는 buzz, 15의 배수 fizzbuzz)\n",
    "\n",
    "num = int(input(\"Type the number: \"))\n",
    "\n",
    "for i in range(1, num+1):   #num+1이 되는 순간 종료하기 떄문에 +1해줘야함.\n",
    "    if(i%15 == 0):\n",
    "        print(\"fizzbuzz\")\n",
    "    elif(i%3 == 0):\n",
    "        print(\"fizz\")\n",
    "    elif(i%5 == 0):\n",
    "        print(\"buzz\")\n",
    "    else:\n",
    "        print(i)"
   ]
  },
  {
   "cell_type": "code",
   "execution_count": null,
   "metadata": {
    "collapsed": false
   },
   "outputs": [
    {
     "name": "stdout",
     "output_type": "stream",
     "text": [
      "78\n",
      "Hi there, What's your name??jun\n",
      "Hi, jun guess the number: 5\n",
      "Hi, jun guess the number: 6\n",
      "Hi, jun guess the number: 5\n",
      "Hi, jun guess the number: 6\n",
      "Hi, jun guess the number: 6\n"
     ]
    }
   ],
   "source": [
    "import random\n",
    "\n",
    "\n",
    "answer = random.randint(1,100)\n",
    "print(answer)\n",
    "\n",
    "username = input(\"Hi there, What's your name??\")\n",
    "chance = 3\n",
    "\n",
    "while True:\n",
    "    guess = eval(input(\"Hi, \"+ username + \" guess the number: \"))\n",
    "\n",
    "if guess == answer:\n",
    "    print(\"Correct!\")\n",
    "    break\n",
    "elif guess > answer:\n",
    "    chance -= 1                        #찬스와 프린트의 순서를 어떻게 하는 것이 효율적인 코드인지 생각해 볼것.\n",
    "    print(\"Too high. (%d times left)\" %(chance))\n",
    "elif guess < answer:\n",
    "    chance -= 1\n",
    "    print(\"Too low. (%d times left)\" %(chance))\n",
    "if chance == 0:\n",
    "    print(\"You are dead\")\n",
    "    break"
   ]
  },
  {
   "cell_type": "code",
   "execution_count": null,
   "metadata": {
    "collapsed": true
   },
   "outputs": [],
   "source": [
    "import string\n",
    "from string import ascii_uppercase as up_case\n",
    "from string import ascii_lowercase as lo_case\n",
    "\n",
    "def "
   ]
  }
 ],
 "metadata": {
  "kernelspec": {
   "display_name": "Python 3",
   "language": "python",
   "name": "python3"
  },
  "language_info": {
   "codemirror_mode": {
    "name": "ipython",
    "version": 3
   },
   "file_extension": ".py",
   "mimetype": "text/x-python",
   "name": "python",
   "nbconvert_exporter": "python",
   "pygments_lexer": "ipython3",
   "version": "3.6.0"
  }
 },
 "nbformat": 4,
 "nbformat_minor": 2
}
