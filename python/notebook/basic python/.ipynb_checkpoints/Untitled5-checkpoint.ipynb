{
 "cells": [
  {
   "cell_type": "code",
   "execution_count": 16,
   "metadata": {
    "collapsed": true,
    "deletable": true,
    "editable": true
   },
   "outputs": [],
   "source": [
    "# property : 객체를 통해 호출을 할 때 마치 인스턴스 멤버처럼 호출\n",
    "#            인스턴스 메소드가 호출됨.\n",
    "class Person:\n",
    "    def __init__(self, money):\n",
    "           self.__money = money\n",
    "    \n",
    "    # getter \n",
    "    @property  # 데코레이터\n",
    "    def money(self):\n",
    "        print(\"getter called\")\n",
    "        return self.__money\n",
    "    \n",
    "    @money.setter\n",
    "    def money(self, money):\n",
    "        print(\"setter called\")\n",
    "        if money < 0:\n",
    "            self.__money = 0\n",
    "        else:\n",
    "            self.__money = money\n",
    "        \n",
    "        \n",
    "    def __str__(self):\n",
    "        return \"I have {} won\".format(self.__money) # self.money도 되는데 "
   ]
  },
  {
   "cell_type": "code",
   "execution_count": 20,
   "metadata": {
    "collapsed": false,
    "deletable": true,
    "editable": true
   },
   "outputs": [
    {
     "name": "stdout",
     "output_type": "stream",
     "text": [
      "getter called\n",
      "3000\n"
     ]
    }
   ],
   "source": [
    "p1 = Person(3000)\n",
    "print(p1.money)"
   ]
  },
  {
   "cell_type": "code",
   "execution_count": 21,
   "metadata": {
    "collapsed": false,
    "deletable": true,
    "editable": true
   },
   "outputs": [
    {
     "name": "stdout",
     "output_type": "stream",
     "text": [
      "I have 3000 won\n"
     ]
    }
   ],
   "source": [
    "print(p1)"
   ]
  },
  {
   "cell_type": "code",
   "execution_count": 22,
   "metadata": {
    "collapsed": false,
    "deletable": true,
    "editable": true
   },
   "outputs": [
    {
     "name": "stdout",
     "output_type": "stream",
     "text": [
      "setter called\n"
     ]
    }
   ],
   "source": [
    "p1.money = -4000000000000"
   ]
  },
  {
   "cell_type": "code",
   "execution_count": 24,
   "metadata": {
    "collapsed": false,
    "deletable": true,
    "editable": true
   },
   "outputs": [
    {
     "name": "stdout",
     "output_type": "stream",
     "text": [
      "getter called\n"
     ]
    },
    {
     "data": {
      "text/plain": [
       "0"
      ]
     },
     "execution_count": 24,
     "metadata": {},
     "output_type": "execute_result"
    }
   ],
   "source": [
    "a = p1.money\n",
    "a"
   ]
  },
  {
   "cell_type": "code",
   "execution_count": null,
   "metadata": {
    "collapsed": true,
    "deletable": true,
    "editable": true
   },
   "outputs": [],
   "source": []
  }
 ],
 "metadata": {
  "kernelspec": {
   "display_name": "Python 3",
   "language": "python",
   "name": "python3"
  },
  "language_info": {
   "codemirror_mode": {
    "name": "ipython",
    "version": 3
   },
   "file_extension": ".py",
   "mimetype": "text/x-python",
   "name": "python",
   "nbconvert_exporter": "python",
   "pygments_lexer": "ipython3",
   "version": "3.6.0"
  }
 },
 "nbformat": 4,
 "nbformat_minor": 2
}
