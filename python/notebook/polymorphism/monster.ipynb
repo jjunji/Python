{
 "cells": [
  {
   "cell_type": "code",
   "execution_count": 1,
   "metadata": {
    "collapsed": true,
    "deletable": true,
    "editable": true
   },
   "outputs": [],
   "source": [
    "from character import Character"
   ]
  },
  {
   "cell_type": "code",
   "execution_count": 2,
   "metadata": {
    "collapsed": false,
    "deletable": true,
    "editable": true
   },
   "outputs": [],
   "source": [
    "class IceMonster(Character):\n",
    "    def get_damage(self, attack_power, attack_kind):\n",
    "        if attack_kind == \"ICE\":\n",
    "            self.hp += attack_power\n",
    "        else:\n",
    "            self.hp -= attack_power\n",
    "    def __str__(self):\n",
    "        return \"Ice Monster's HP : {}\".format(self.hp)\n",
    "\n",
    "\n",
    "class FireMonster(Character):\n",
    "    def get_damage(self, attack_power, attack_kind):\n",
    "        if attack_kind == \"FIRE\":\n",
    "            self.hp += attack_power\n",
    "        else:\n",
    "            self.hp -= attack_power\n",
    "            \n",
    "    def __str__(self):\n",
    "        return \"Fire Monster's HP : {}\".format(self.hp)"
   ]
  },
  {
   "cell_type": "code",
   "execution_count": null,
   "metadata": {
    "collapsed": true,
    "deletable": true,
    "editable": true
   },
   "outputs": [],
   "source": []
  },
  {
   "cell_type": "code",
   "execution_count": null,
   "metadata": {
    "collapsed": true
   },
   "outputs": [],
   "source": []
  }
 ],
 "metadata": {
  "kernelspec": {
   "display_name": "Python 3",
   "language": "python",
   "name": "python3"
  },
  "language_info": {
   "codemirror_mode": {
    "name": "ipython",
    "version": 3
   },
   "file_extension": ".py",
   "mimetype": "text/x-python",
   "name": "python",
   "nbconvert_exporter": "python",
   "pygments_lexer": "ipython3",
   "version": "3.6.0"
  }
 },
 "nbformat": 4,
 "nbformat_minor": 2
}
