{
 "cells": [
  {
   "cell_type": "code",
   "execution_count": 1,
   "metadata": {
    "collapsed": false,
    "deletable": true,
    "editable": true
   },
   "outputs": [],
   "source": [
    "# 같은 코드 다른 결과 -> 폴리모르피즘?\n",
    "# abstract_class : 객체를 만들 수 없는 클래스\n",
    "# 기본 클래스, 부모 클래스의 역할.\n",
    "\n",
    "from abc import * # abstract base class\n",
    "\n",
    "class Character(metaclass = ABCMeta):\n",
    "    def __init__(self):\n",
    "        self.hp = 100\n",
    "        self.attack_power = 20\n",
    "       \n",
    "    def attack(self, other, attack_kind):\n",
    "        other.get_damage(self.attack_power, attack_kind)\n",
    "        \n",
    "    @abstractmethod # 객체를 만들 수 없는 클래스이므로, abstract메소드를 가져야 인스턴스 생성 가능? -> abstract메소드를 꼭 쓰게 할 때.\n",
    "    def get_damage(self, attack_power, attack_kind):\n",
    "        pass\n"
   ]
  },
  {
   "cell_type": "code",
   "execution_count": 7,
   "metadata": {
    "collapsed": true,
    "deletable": true,
    "editable": true
   },
   "outputs": [],
   "source": [
    "# 모듈을 불러올때는 py파일로 저장해야됨. 그래서 vi에서 하는구나"
   ]
  },
  {
   "cell_type": "code",
   "execution_count": null,
   "metadata": {
    "collapsed": true,
    "deletable": true,
    "editable": true
   },
   "outputs": [],
   "source": []
  }
 ],
 "metadata": {
  "kernelspec": {
   "display_name": "Python 3",
   "language": "python",
   "name": "python3"
  },
  "language_info": {
   "codemirror_mode": {
    "name": "ipython",
    "version": 3
   },
   "file_extension": ".py",
   "mimetype": "text/x-python",
   "name": "python",
   "nbconvert_exporter": "python",
   "pygments_lexer": "ipython3",
   "version": "3.6.0"
  }
 },
 "nbformat": 4,
 "nbformat_minor": 2
}
