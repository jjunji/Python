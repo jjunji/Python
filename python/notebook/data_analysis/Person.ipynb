{
 "cells": [
  {
   "cell_type": "code",
   "execution_count": 10,
   "metadata": {
    "collapsed": false,
    "deletable": true,
    "editable": true
   },
   "outputs": [],
   "source": [
    "# 모델링 : 아래와 같이 프로그램에서 어떤 대상을 특징,속성을 가지고 표현하는 것. 프로그램을 짜는 과정.\n",
    "# 멤버와 메소드를 합쳐서 속성이라고함.(attribute)\n",
    "\n",
    "class Person:\n",
    "    # member : 모든 사람들이 공유하는 속성중에서 행동이나 기능이 아닌 정보,데이터,상태 (멤버변수)\n",
    "    def __init__(self, name, age, money):\n",
    "        self.name = name\n",
    "        self.age = age\n",
    "        self.money = money\n",
    "        self.hp = 100\n",
    "    \n",
    "    # method : 기능, 클래스가 가지는 함수 (멤버함수)\n",
    "    def givemoney(self, other, money):\n",
    "        self.money -= money\n",
    "        other.money += money\n",
    "    \n",
    "    def under_stress(self, hp):\n",
    "        self.hp -= hp\n",
    "        \n",
    "    def showInfo(self):\n",
    "        print(\"name : {} \\nage : {}\".format(self.money, self.age))\n",
    "        \n",
    "class CD:\n",
    "    def __init__(self, local, capacity):\n",
    "        self.local = local\n",
    "        self.capacity = capacity\n",
    "    \n",
    "    def givemoney(self, person, money):\n",
    "        self.capacity -= money\n",
    "        person.money += money\n",
    "        \n",
    "    def showInfo(self):\n",
    "        print(\"cd name {} \\ncapacity : {}\".format(self.local, self.capacity))"
   ]
  },
  {
   "cell_type": "code",
   "execution_count": 11,
   "metadata": {
    "collapsed": false,
    "deletable": true,
    "editable": true
   },
   "outputs": [
    {
     "name": "stdout",
     "output_type": "stream",
     "text": [
      "name : 5000 \n",
      "age : 18\n",
      "cd name 강구 \n",
      "capacity : 1900000\n"
     ]
    }
   ],
   "source": [
    "# instance\n",
    "# 객체 person_1은 Person의 인스턴스\n",
    "\n",
    "person_1 = Person(\"greg\", 18, 5000)\n",
    "person_2 = Person(\"matt\", 25, 1000)\n",
    "cd_1 = CD(\"강구\", 2000000)\n",
    "\n",
    "person_1.showInfo()\n",
    "cd_1.givemoney(person_1,100000)\n",
    "cd_1.showInfo()"
   ]
  },
  {
   "cell_type": "code",
   "execution_count": 28,
   "metadata": {
    "collapsed": true,
    "deletable": true,
    "editable": true
   },
   "outputs": [],
   "source": [
    "# interaction between instances = message passing"
   ]
  },
  {
   "cell_type": "code",
   "execution_count": 12,
   "metadata": {
    "collapsed": false,
    "deletable": true,
    "editable": true
   },
   "outputs": [
    {
     "name": "stdout",
     "output_type": "stream",
     "text": [
      "name : 105000 \n",
      "age : 18\n",
      "name : 1000 \n",
      "age : 25\n"
     ]
    }
   ],
   "source": [
    "person_1.showInfo()\n",
    "person_2.showInfo()"
   ]
  },
  {
   "cell_type": "code",
   "execution_count": null,
   "metadata": {
    "collapsed": true,
    "deletable": true,
    "editable": true
   },
   "outputs": [],
   "source": []
  }
 ],
 "metadata": {
  "kernelspec": {
   "display_name": "Python 3",
   "language": "python",
   "name": "python3"
  },
  "language_info": {
   "codemirror_mode": {
    "name": "ipython",
    "version": 3
   },
   "file_extension": ".py",
   "mimetype": "text/x-python",
   "name": "python",
   "nbconvert_exporter": "python",
   "pygments_lexer": "ipython3",
   "version": "3.6.0"
  }
 },
 "nbformat": 4,
 "nbformat_minor": 2
}
