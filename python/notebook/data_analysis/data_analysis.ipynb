{
 "cells": [
  {
   "cell_type": "code",
   "execution_count": 52,
   "metadata": {
    "collapsed": true
   },
   "outputs": [],
   "source": [
    "# 절차지향 프로그램 예시\n",
    "\n",
    "from functools import reduce\n",
    "import math # sqrt\n",
    "import pickle\n",
    "\n",
    "# 평균, 분산 함수 만들기\n",
    "\n",
    "def average(scores):  # score = [95, 23, 46, 25] / reduce로\n",
    "    return reduce(lambda a,b: a + b, scores) / len(scores)\n",
    "\n",
    "def variance(scores, arvg):  # scores = [95, 23, 25, 62] avrg : 50\n",
    "    return reduce(lambda a,b: a +b, map(lambda s: (s-arvg)**2, scores)) / len(scores) # sum(각 점수 - 평균)**2 / 데이터의 개수\n",
    "\n",
    "def evaluateClass(avrg, std_dev):\n",
    "    if avrg <50 and std_dev >20:\n",
    "        print(\"성적이 너무 저조하고 학생들의 실력 차이가 너무 크다.\")\n",
    "    elif avrg > 50 and std_dev >20:\n",
    "        print(\"성적은 평균이상이지만 학생들 실력 차이가 크다. 주의 요망!\")\n",
    "    elif avrg < 50 and std_dev <20:\n",
    "        print(\"학생들간 실력차는 나지 않으나 성적이 너무 저조하다. 주의 요망!\")\n",
    "    elif avrg > 50 and std_dev <20:\n",
    "        print(\"성적도 평균 이상이고 학생들의 실력차도 크지 않다.\")\n",
    "        \n"
   ]
  },
  {
   "cell_type": "code",
   "execution_count": 53,
   "metadata": {
    "collapsed": true
   },
   "outputs": [],
   "source": [
    "f = open(\"class_A.bin\", \"rb\") #rb : read binary"
   ]
  },
  {
   "cell_type": "code",
   "execution_count": 54,
   "metadata": {
    "collapsed": false
   },
   "outputs": [
    {
     "name": "stdout",
     "output_type": "stream",
     "text": [
      "[{'greg': 95}, {'john': 25}, {'yang': 50}, {'timothy': 15}, {'melisa': 100}, {'thor': 10}, {'elen': 25}, {'mark': 80}, {'steve': 95}, {'anna': 20}]\n"
     ]
    }
   ],
   "source": [
    "items = []\n",
    "\n",
    "while 1:\n",
    "    try:\n",
    "        data = pickle.load(f)\n",
    "    except EOFError:\n",
    "        break\n",
    "    items.append(data)\n",
    "\n",
    "print(items)"
   ]
  },
  {
   "cell_type": "code",
   "execution_count": 55,
   "metadata": {
    "collapsed": false
   },
   "outputs": [
    {
     "name": "stdout",
     "output_type": "stream",
     "text": [
      "[95, 25, 50, 15, 100, 10, 25, 80, 95, 20]\n"
     ]
    }
   ],
   "source": [
    "# data handling\n",
    "\n",
    "scores = []\n",
    "\n",
    "for item in items:\n",
    "    for value in item.values():\n",
    "        scores.append(value)\n",
    "\n",
    "f.close()  # 닫는 시점 : \n",
    "print(scores)"
   ]
  },
  {
   "cell_type": "code",
   "execution_count": 56,
   "metadata": {
    "collapsed": false
   },
   "outputs": [
    {
     "data": {
      "text/plain": [
       "51.5"
      ]
     },
     "execution_count": 56,
     "metadata": {},
     "output_type": "execute_result"
    }
   ],
   "source": [
    "avrg = average(scores)\n",
    "avrg"
   ]
  },
  {
   "cell_type": "code",
   "execution_count": 57,
   "metadata": {
    "collapsed": false
   },
   "outputs": [
    {
     "data": {
      "text/plain": [
       "1240.2"
      ]
     },
     "execution_count": 57,
     "metadata": {},
     "output_type": "execute_result"
    }
   ],
   "source": [
    "vari = round(variance(scores, avrg), 1)\n",
    "vari"
   ]
  },
  {
   "cell_type": "code",
   "execution_count": 58,
   "metadata": {
    "collapsed": false
   },
   "outputs": [
    {
     "data": {
      "text/plain": [
       "35.2"
      ]
     },
     "execution_count": 58,
     "metadata": {},
     "output_type": "execute_result"
    }
   ],
   "source": [
    "std_dev = round(math.sqrt(vari),1)\n",
    "std_dev"
   ]
  },
  {
   "cell_type": "code",
   "execution_count": 60,
   "metadata": {
    "collapsed": false
   },
   "outputs": [
    {
     "name": "stdout",
     "output_type": "stream",
     "text": [
      "\n",
      "\n",
      "**************************************************\n",
      "A반 성적 분석 결과\n",
      "**************************************************\n",
      "A반의 평균은 51.5점이고 분산은 1240.2이며, 따라서 표준편차는 35.2이다\n",
      "**************************************************\n",
      "A반 종합 평가\n",
      "**************************************************\n",
      "\n",
      "\n",
      "성적은 평균이상이지만 학생들 실력 차이가 크다. 주의 요망!\n"
     ]
    }
   ],
   "source": [
    "print(\"\\n\")\n",
    "\n",
    "print('*' * 50)\n",
    "print(\"A반 성적 분석 결과\")\n",
    "print('*' * 50)\n",
    "print(\"A반의 평균은 {0}점이고 분산은 {1}이며, 따라서 표준편차는 {2}이다\".format(avrg, vari, std_dev))\n",
    "print('*' * 50)\n",
    "print(\"A반 종합 평가\")\n",
    "print('*' * 50)\n",
    "\n",
    "print('\\n')\n",
    "evaluateClass(avrg, std_dev)\n",
    "\n",
    "# f.close()  -> 위로 올리자 (왜냐하면 메모리를 많이 잡아먹기때문에? 파일이 끝나면 닫아주는 것이 좋음 -> 다시 듣기)"
   ]
  },
  {
   "cell_type": "code",
   "execution_count": 17,
   "metadata": {
    "collapsed": true
   },
   "outputs": [],
   "source": [
    "# 위에서 items에 할당된 key값을 빼고 value 값만을 빼오기 위한 과정을 이해하기 위한 예)\n",
    "\n",
    "dic = dict(one = 1, two =2, three =3)"
   ]
  },
  {
   "cell_type": "code",
   "execution_count": 18,
   "metadata": {
    "collapsed": false
   },
   "outputs": [
    {
     "data": {
      "text/plain": [
       "{'one': 1, 'three': 3, 'two': 2}"
      ]
     },
     "execution_count": 18,
     "metadata": {},
     "output_type": "execute_result"
    }
   ],
   "source": [
    "dic"
   ]
  },
  {
   "cell_type": "code",
   "execution_count": 19,
   "metadata": {
    "collapsed": false
   },
   "outputs": [
    {
     "data": {
      "text/plain": [
       "dict_values([1, 2, 3])"
      ]
     },
     "execution_count": 19,
     "metadata": {},
     "output_type": "execute_result"
    }
   ],
   "source": [
    "dic.values()"
   ]
  },
  {
   "cell_type": "code",
   "execution_count": 20,
   "metadata": {
    "collapsed": false
   },
   "outputs": [
    {
     "name": "stdout",
     "output_type": "stream",
     "text": [
      "1\n",
      "2\n",
      "3\n"
     ]
    }
   ],
   "source": [
    "for value in dic.values():\n",
    "    print(value)"
   ]
  },
  {
   "cell_type": "code",
   "execution_count": 23,
   "metadata": {
    "collapsed": false
   },
   "outputs": [
    {
     "data": {
      "text/plain": [
       "{'one': 1, 'three': 3, 'two': 2}"
      ]
     },
     "execution_count": 23,
     "metadata": {},
     "output_type": "execute_result"
    }
   ],
   "source": [
    "dic = dict(one = 1, two = 2, three =3)\n",
    "dic"
   ]
  },
  {
   "cell_type": "code",
   "execution_count": 24,
   "metadata": {
    "collapsed": false
   },
   "outputs": [
    {
     "name": "stdout",
     "output_type": "stream",
     "text": [
      "('one', 1)\n",
      "('two', 2)\n",
      "('three', 3)\n"
     ]
    }
   ],
   "source": [
    "for one in dic.items():\n",
    "    print(one)                  # 튜플로 받는다."
   ]
  },
  {
   "cell_type": "code",
   "execution_count": 27,
   "metadata": {
    "collapsed": false
   },
   "outputs": [
    {
     "name": "stdout",
     "output_type": "stream",
     "text": [
      "('three', 3)\n",
      "('three', 3)\n",
      "('three', 3)\n"
     ]
    }
   ],
   "source": [
    "for key, value in dic.items():\n",
    "    print(one)"
   ]
  },
  {
   "cell_type": "code",
   "execution_count": 47,
   "metadata": {
    "collapsed": false
   },
   "outputs": [
    {
     "name": "stdout",
     "output_type": "stream",
     "text": [
      "12는 재밌어, abc는 싫어\n",
      "내 이름은 greg이고, 나이는 10인데 그 나이 10는 사실 거짓말이야.\n",
      "10   greg\n",
      "10 greg\n"
     ]
    }
   ],
   "source": [
    "a = 12\n",
    "b = \"abc\"\n",
    "print(\"{}는 재밌어, {}는 싫어\".format(a, b))\n",
    "age = 10\n",
    "name = \"greg\"\n",
    "print(\"내 이름은 {n}이고, 나이는 {a}인데 그 나이 {a}는 사실 거짓말이야.\".format(n = name, a = age))\n",
    "print(age, end = '   ')\n",
    "print(name)\n",
    "print(age, name)"
   ]
  },
  {
   "cell_type": "code",
   "execution_count": null,
   "metadata": {
    "collapsed": true
   },
   "outputs": [],
   "source": []
  }
 ],
 "metadata": {
  "kernelspec": {
   "display_name": "Python 3",
   "language": "python",
   "name": "python3"
  },
  "language_info": {
   "codemirror_mode": {
    "name": "ipython",
    "version": 3
   },
   "file_extension": ".py",
   "mimetype": "text/x-python",
   "name": "python",
   "nbconvert_exporter": "python",
   "pygments_lexer": "ipython3",
   "version": "3.6.0"
  }
 },
 "nbformat": 4,
 "nbformat_minor": 2
}
