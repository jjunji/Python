{
 "cells": [
  {
   "cell_type": "code",
   "execution_count": 38,
   "metadata": {
    "collapsed": false
   },
   "outputs": [],
   "source": [
    "# 모델링 : 아래와 같이 프로그램을 짜는 것을 모델링 / 객체 :\n",
    "# 멤버와 메소드를 합쳐서 속성이라고함.(attribute)\n",
    "class Person:\n",
    "    # member : 모든 사람들이 공유하는 속성중에서 행동이나 기능이 아닌 정보,데이터,상태\n",
    "    def __init__(self, name, age, money):\n",
    "        self.name = name\n",
    "        self.age = age\n",
    "        self.money = money\n",
    "        self.hp = 100\n",
    "    \n",
    "    # method :\n",
    "    def givemoney(self, other, money):\n",
    "        self.money -= money\n",
    "        other.money += money\n",
    "    \n",
    "    def under_stress(self, hp):\n",
    "        self.hp -= hp\n",
    "        \n",
    "    def showInfo(self):\n",
    "        print(\"name : {} \\n age : {}\".format(self.money, self.age))\n",
    "        \n",
    "class CD:\n",
    "    def __init__(self, local, capacity):\n",
    "        self.local = local\n",
    "        self.capacity = capacity\n",
    "    \n",
    "    def givemoney(self, person, money):\n",
    "        self.capacity -= money\n",
    "        person.money += money\n",
    "        \n",
    "    def showInfo(self):\n",
    "        print(\"cd name {} \\n capacity : {}\".format(self, local, self.capacity))"
   ]
  },
  {
   "cell_type": "code",
   "execution_count": 39,
   "metadata": {
    "collapsed": false
   },
   "outputs": [
    {
     "name": "stdout",
     "output_type": "stream",
     "text": [
      "name : 5000 \n",
      " age : 18\n"
     ]
    },
    {
     "ename": "NameError",
     "evalue": "name 'local' is not defined",
     "output_type": "error",
     "traceback": [
      "\u001b[0;31m---------------------------------------------------------------------------\u001b[0m",
      "\u001b[0;31mNameError\u001b[0m                                 Traceback (most recent call last)",
      "\u001b[0;32m<ipython-input-39-f13a1f7e4dc2>\u001b[0m in \u001b[0;36m<module>\u001b[0;34m()\u001b[0m\n\u001b[1;32m      8\u001b[0m \u001b[0mperson_1\u001b[0m\u001b[0;34m.\u001b[0m\u001b[0mshowInfo\u001b[0m\u001b[0;34m(\u001b[0m\u001b[0;34m)\u001b[0m\u001b[0;34m\u001b[0m\u001b[0m\n\u001b[1;32m      9\u001b[0m \u001b[0mcd_1\u001b[0m\u001b[0;34m.\u001b[0m\u001b[0mgivemoney\u001b[0m\u001b[0;34m(\u001b[0m\u001b[0mperson_1\u001b[0m\u001b[0;34m,\u001b[0m\u001b[0;36m100000\u001b[0m\u001b[0;34m)\u001b[0m\u001b[0;34m\u001b[0m\u001b[0m\n\u001b[0;32m---> 10\u001b[0;31m \u001b[0mcd_1\u001b[0m\u001b[0;34m.\u001b[0m\u001b[0mshowInfo\u001b[0m\u001b[0;34m(\u001b[0m\u001b[0;34m)\u001b[0m\u001b[0;34m\u001b[0m\u001b[0m\n\u001b[0m",
      "\u001b[0;32m<ipython-input-38-dc0710cc3a03>\u001b[0m in \u001b[0;36mshowInfo\u001b[0;34m(self)\u001b[0m\n\u001b[1;32m     30\u001b[0m \u001b[0;34m\u001b[0m\u001b[0m\n\u001b[1;32m     31\u001b[0m     \u001b[0;32mdef\u001b[0m \u001b[0mshowInfo\u001b[0m\u001b[0;34m(\u001b[0m\u001b[0mself\u001b[0m\u001b[0;34m)\u001b[0m\u001b[0;34m:\u001b[0m\u001b[0;34m\u001b[0m\u001b[0m\n\u001b[0;32m---> 32\u001b[0;31m         \u001b[0mprint\u001b[0m\u001b[0;34m(\u001b[0m\u001b[0;34m\"cd name {} \\n capacity : {}\"\u001b[0m\u001b[0;34m.\u001b[0m\u001b[0mformat\u001b[0m\u001b[0;34m(\u001b[0m\u001b[0mself\u001b[0m\u001b[0;34m,\u001b[0m \u001b[0mlocal\u001b[0m\u001b[0;34m,\u001b[0m \u001b[0mself\u001b[0m\u001b[0;34m.\u001b[0m\u001b[0mcapacity\u001b[0m\u001b[0;34m)\u001b[0m\u001b[0;34m)\u001b[0m\u001b[0;34m\u001b[0m\u001b[0m\n\u001b[0m",
      "\u001b[0;31mNameError\u001b[0m: name 'local' is not defined"
     ]
    }
   ],
   "source": [
    "# instance\n",
    "# 객체 person_1은 Person의 인스턴스\n",
    "\n",
    "person_1 = Person(\"greg\", 18, 5000)\n",
    "person_2 = Person(\"matt\", 25, 1000)\n",
    "cd_1 = CD(\"강구\", 2000000)\n",
    "\n",
    "person_1.showInfo()\n",
    "cd_1.givemoney(person_1,100000)\n",
    "cd_1.showInfo()"
   ]
  },
  {
   "cell_type": "code",
   "execution_count": 28,
   "metadata": {
    "collapsed": true
   },
   "outputs": [],
   "source": [
    "# interaction between instances = message passing"
   ]
  },
  {
   "cell_type": "code",
   "execution_count": 29,
   "metadata": {
    "collapsed": false
   },
   "outputs": [
    {
     "name": "stdout",
     "output_type": "stream",
     "text": [
      "name : 105000 \n",
      " age : 18\n",
      "name : 1000 \n",
      " age : 25\n"
     ]
    }
   ],
   "source": [
    "person_1.showInfo()\n",
    "person_2.showInfo()"
   ]
  },
  {
   "cell_type": "code",
   "execution_count": null,
   "metadata": {
    "collapsed": true
   },
   "outputs": [],
   "source": []
  }
 ],
 "metadata": {
  "kernelspec": {
   "display_name": "Python 3",
   "language": "python",
   "name": "python3"
  },
  "language_info": {
   "codemirror_mode": {
    "name": "ipython",
    "version": 3
   },
   "file_extension": ".py",
   "mimetype": "text/x-python",
   "name": "python",
   "nbconvert_exporter": "python",
   "pygments_lexer": "ipython3",
   "version": "3.6.0"
  }
 },
 "nbformat": 4,
 "nbformat_minor": 2
}
