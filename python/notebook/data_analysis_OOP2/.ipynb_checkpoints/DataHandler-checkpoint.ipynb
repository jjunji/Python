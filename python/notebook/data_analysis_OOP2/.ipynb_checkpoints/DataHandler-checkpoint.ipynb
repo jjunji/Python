{
 "cells": [
  {
   "cell_type": "code",
   "execution_count": 7,
   "metadata": {
    "collapsed": false
   },
   "outputs": [],
   "source": [
    "from evaluate import Evaluate\n",
    "import pickle\n",
    "import math\n",
    "\n",
    "class DataHandler:\n",
    "    #클래스 변수 : 클래스의 모든 인스턴스들이 공유하는 변수\n",
    "    evaluator = Evaluate()\n",
    "\n",
    "    #class method : 전역함수처럼 쓸 수 있다              \n",
    "    @classmethod\n",
    "    def GetRawdatainDic(cls, filename):\n",
    "        rawdata = {}\n",
    "        with open(filename, 'rb') as f:\n",
    "            while 1:\n",
    "                try: \n",
    "                    data = pickle.load(f)\n",
    "                except EOFError:\n",
    "                    break\n",
    "                    \n",
    "                rawdata.update(data)\n",
    "                \n",
    "        return rawdata\n",
    "\n",
    "    def __init__(self, filename, clsname):\n",
    "        self.rawdata = DataHandler.GetRawdatainDic(filename)\n",
    "        self.clsname = clsname\n",
    "        # 연산한 값을 저장해두는 저장소\n",
    "        # 팔요할 때 연산하되\n",
    "        # 이미 연산된 값이면 연산없이 저장된 값을 반환\n",
    "        self.cache = {}\n",
    "    def get_scores(self):\n",
    "        if \"socores\" not in self.cache:\n",
    "            self.cache['scores'] = list(self.rawdata.value())\n",
    "            \n",
    "        return self.cache.get('scores')\n",
    "            \n",
    "    # cache    \n",
    "    def get_average(self):\n",
    "        if 'average' not in self.cache:\n",
    "            self.cache['average'] = self.evaluator.average(self.get_scores())\n",
    "        \n",
    "        return self.cache.get('average')\n",
    "    \n",
    "    def get_variance(self):\n",
    "        if 'variance' not in self.cahe:\n",
    "            self.cache['variance'] = self.evaluator\n",
    "        pass\n",
    "    \n",
    "    def get_standard_deviation(self):\n",
    "        pass\n",
    "    \n",
    "    def WhoIsHighest(self):\n",
    "        reduce(lambda a, b: )\n",
    "    \n",
    "    def GetHighestScore(self):\n",
    "        pass\n",
    "    \n",
    "    def WhoIsLowest(self):\n",
    "        pass\n",
    "    \n",
    "    def GetLowestScore(self):\n",
    "        return self.rawdata[self.WhoIsLowest()]\n",
    "    \n",
    "    def GetEvaluation(self):\n",
    "        print('*' * 50)\n",
    "        print(\"%s 반 성적 분석 결과\" % self.clsname)\n",
    "        print(\"{0}반의 평균은 {1}점이고 분산은 {2}이며,따라서 표준편차는{3}이다\".\\\n",
    "              format(self.clsname, self.get_Average(), self.get_Variance()\\\n",
    "                     , self.get_Standard_deviation()))\n",
    "        print('*' * 50)\n",
    "        print(\"%s 반 종합 평가\" % self.clsname)\n",
    "        print('*' * 50)\n",
    "        self.evaluateClass()\n",
    "\n",
    "    def evaluateClass(self):\n",
    "        avrg = self.get_average()\n",
    "        std_dev = self.get_Standard_deviation()\n",
    "        \n",
    "        if avrg <50 and std_dev >20:\n",
    "            print(\"성적이 너무 저조하고 학생들의 실력 차이가 너무 크다.\")\n",
    "        elif avrg > 50 and std_dev >20:\n",
    "            print(\"성적은 평균이상이지만 학생들 실력 차이가 크다. 주의 요망!\")\n",
    "        elif avrg < 50 and std_dev <20:\n",
    "            print(\"학생들간 실력차는 나지 않으나 성적이 너무 저조하다. 주의 요망!\")\n",
    "        elif avrg > 50 and std_dev <20:\n",
    "            print(\"성적도 평균 이상이고 학생들의 실력차도 크지 않다.\")"
   ]
  },
  {
   "cell_type": "code",
   "execution_count": 5,
   "metadata": {
    "collapsed": false
   },
   "outputs": [
    {
     "data": {
      "text/plain": [
       "{'anna': 20,\n",
       " 'elen': 25,\n",
       " 'greg': 95,\n",
       " 'john': 25,\n",
       " 'mark': 80,\n",
       " 'melisa': 100,\n",
       " 'steve': 95,\n",
       " 'thor': 10,\n",
       " 'timothy': 15,\n",
       " 'yang': 50}"
      ]
     },
     "execution_count": 5,
     "metadata": {},
     "output_type": "execute_result"
    }
   ],
   "source": [
    "DataHandler.GetRawdatainDic(\"class_A.bin\")"
   ]
  },
  {
   "cell_type": "code",
   "execution_count": null,
   "metadata": {
    "collapsed": true
   },
   "outputs": [],
   "source": []
  }
 ],
 "metadata": {
  "kernelspec": {
   "display_name": "Python 3",
   "language": "python",
   "name": "python3"
  },
  "language_info": {
   "codemirror_mode": {
    "name": "ipython",
    "version": 3
   },
   "file_extension": ".py",
   "mimetype": "text/x-python",
   "name": "python",
   "nbconvert_exporter": "python",
   "pygments_lexer": "ipython3",
   "version": "3.6.0"
  }
 },
 "nbformat": 4,
 "nbformat_minor": 2
}
