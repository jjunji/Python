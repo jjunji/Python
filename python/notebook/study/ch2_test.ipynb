{
 "cells": [
  {
   "cell_type": "code",
   "execution_count": 2,
   "metadata": {
    "collapsed": false
   },
   "outputs": [],
   "source": [
    "# Q1\n",
    "\n",
    "# 홍길동 씨의 주민등록번호는 881120-1068234이다.\n",
    "# 주민등록번호를 연원일 부분과 그 뒤의 숫자 부분으로 나누어 출력헤보자.\n",
    "\n",
    "pin = \"881120-1068234\"\n",
    "yyyymmdd = pin.split(\"-\")"
   ]
  },
  {
   "cell_type": "code",
   "execution_count": 3,
   "metadata": {
    "collapsed": false
   },
   "outputs": [
    {
     "data": {
      "text/plain": [
       "['881120', '1068234']"
      ]
     },
     "execution_count": 3,
     "metadata": {},
     "output_type": "execute_result"
    }
   ],
   "source": [
    "yyyymmdd"
   ]
  },
  {
   "cell_type": "code",
   "execution_count": 4,
   "metadata": {
    "collapsed": true
   },
   "outputs": [],
   "source": [
    "num = yyyymmdd[0]"
   ]
  },
  {
   "cell_type": "code",
   "execution_count": 7,
   "metadata": {
    "collapsed": false
   },
   "outputs": [
    {
     "name": "stdout",
     "output_type": "stream",
     "text": [
      "881120\n",
      "1068234\n"
     ]
    }
   ],
   "source": [
    "print(num)\n",
    "print(yyyymmdd[1])"
   ]
  },
  {
   "cell_type": "code",
   "execution_count": 8,
   "metadata": {
    "collapsed": false
   },
   "outputs": [
    {
     "name": "stdout",
     "output_type": "stream",
     "text": [
      "881120\n",
      "1068234\n"
     ]
    }
   ],
   "source": [
    "# 풀이\n",
    "\n",
    "pin = \"881120-1068234\"\n",
    "yyyymmdd = pin[:6]\n",
    "num = pin[7:]\n",
    "print(yyyymmdd)\n",
    "print(num)"
   ]
  },
  {
   "cell_type": "code",
   "execution_count": 12,
   "metadata": {
    "collapsed": false
   },
   "outputs": [
    {
     "name": "stdout",
     "output_type": "stream",
     "text": [
      "1\n"
     ]
    }
   ],
   "source": [
    "# Q2\n",
    "\n",
    "# 주민등록번호 뒷자리의 맨 첫 번째 숫자는 성별을 나타낸다. 주민등록번호에서 성별을 나타내는 숫자를 출력해보자.\n",
    "\n",
    "pin = \"881120-1068234\"\n",
    "print(pin[7])"
   ]
  },
  {
   "cell_type": "code",
   "execution_count": 17,
   "metadata": {
    "collapsed": false
   },
   "outputs": [
    {
     "name": "stdout",
     "output_type": "stream",
     "text": [
      "[1, 2, 3, 4, 5]\n",
      "[5, 4, 3, 2, 1]\n"
     ]
    }
   ],
   "source": [
    "# Q3\n",
    "\n",
    "# [1,3,5,4,2] 라는 리스트를 [5, 4, 3, 2, 1]로 만들어보자.\n",
    "\n",
    "a = [1, 3, 5, 4, 2]\n",
    "a.sort()\n",
    "print(a)\n",
    "a.reverse()\n",
    "print(a)"
   ]
  },
  {
   "cell_type": "code",
   "execution_count": 24,
   "metadata": {
    "collapsed": false
   },
   "outputs": [
    {
     "name": "stdout",
     "output_type": "stream",
     "text": [
      "life is too short\n"
     ]
    }
   ],
   "source": [
    "# Q4\n",
    "\n",
    "# ['life', 'is', 'too', 'short'] 라는 리스트를 Life is too short라는 문자열로 만들어 출력해보자.\n",
    "\n",
    "a = ['life', 'is', 'too', 'short']\n",
    "result = \" \".join(a)\n",
    "print(result)"
   ]
  },
  {
   "cell_type": "code",
   "execution_count": null,
   "metadata": {
    "collapsed": false
   },
   "outputs": [],
   "source": []
  },
  {
   "cell_type": "code",
   "execution_count": null,
   "metadata": {
    "collapsed": true
   },
   "outputs": [],
   "source": []
  }
 ],
 "metadata": {
  "kernelspec": {
   "display_name": "Python 3",
   "language": "python",
   "name": "python3"
  },
  "language_info": {
   "codemirror_mode": {
    "name": "ipython",
    "version": 3
   },
   "file_extension": ".py",
   "mimetype": "text/x-python",
   "name": "python",
   "nbconvert_exporter": "python",
   "pygments_lexer": "ipython3",
   "version": "3.6.0"
  }
 },
 "nbformat": 4,
 "nbformat_minor": 2
}
