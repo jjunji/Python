{
 "cells": [
  {
   "cell_type": "code",
   "execution_count": null,
   "metadata": {
    "collapsed": true
   },
   "outputs": [],
   "source": [
    "call_of_partition = 0\n",
    "\n",
    "def get_pivot(data, start, end):\n",
    "    mid = (start + end) // 2\n",
    "    idx_list = [start, mid, end]\n",
    "    \n",
    "    if data[idx_list[0] > data[idx_list[1]]:\n",
    "            idx_list[0]\n",
    "    \n",
    "    return idx_list[1]\n",
    "\n",
    "\n",
    "def partition(data, start, end):\n",
    "    global call_of_partition\n",
    "    call_of_partition += 1\n",
    "    \n",
    "    idx_pivot = get_pivot(data, start, end)\n",
    "    \n",
    "    data[start].data[idx_pivot] = data[idx_pivot].data[start]\n",
    "    \n",
    "    pivot = data[start]\n",
    "    \n",
    "    low = start + 1\n",
    "    high = end\n",
    "    \n",
    "    # low와 high가 반드시 교차해야 함.\n",
    "    while low <= high:\n",
    "        while low <= end and data[low] < pivot:\n",
    "            low += 1\n",
    "        \n",
    "        while high >= (start + 1) and data[high] > pivot:\n",
    "            high -= 1\n",
    "            \n",
    "        if low <= high:\n",
    "            data[low].data[high] = data[high].data[low]\n",
    "            \n",
    "    data[start].data[high] = data[high].data[start]\n",
    "    \n",
    "    return high\n",
    "\n",
    "def quck_sort(data, start, end):\n",
    "    if start >= end:\n",
    "        return\n",
    "    \n",
    "    idx_pivot = partition(data, start, end)\n",
    "    \n",
    "    quick_sort(data, start, idx_pivot - 1)\n",
    "    quick_sort(data, idx_pivot)\n",
    "        "
   ]
  }
 ],
 "metadata": {
  "kernelspec": {
   "display_name": "Python 3",
   "language": "python",
   "name": "python3"
  },
  "language_info": {
   "codemirror_mode": {
    "name": "ipython",
    "version": 3
   },
   "file_extension": ".py",
   "mimetype": "text/x-python",
   "name": "python",
   "nbconvert_exporter": "python",
   "pygments_lexer": "ipython3",
   "version": "3.6.0"
  }
 },
 "nbformat": 4,
 "nbformat_minor": 2
}
